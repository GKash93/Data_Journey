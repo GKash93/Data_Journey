{
 "cells": [
  {
   "cell_type": "markdown",
   "metadata": {},
   "source": [
    "### Advance statistics\n",
    "\n",
    "    * Level: 1\n",
    "        * statistical inference, estimates and z-test\n",
    "        * Hypothesis testing and concept\n",
    "        \n",
    "     * Level: 2\n",
    "         * Analysis of Variance and Experience Designs\n",
    "         * chi-square test\n",
    "         \n",
    "     * Level: 3\n",
    "         * Simple Linear Regression\n",
    "         * Multiple Linear Regression"
   ]
  }
 ],
 "metadata": {
  "kernelspec": {
   "display_name": "Python 3",
   "language": "python",
   "name": "python3"
  },
  "language_info": {
   "codemirror_mode": {
    "name": "ipython",
    "version": 3
   },
   "file_extension": ".py",
   "mimetype": "text/x-python",
   "name": "python",
   "nbconvert_exporter": "python",
   "pygments_lexer": "ipython3",
   "version": "3.8.5"
  }
 },
 "nbformat": 4,
 "nbformat_minor": 4
}
