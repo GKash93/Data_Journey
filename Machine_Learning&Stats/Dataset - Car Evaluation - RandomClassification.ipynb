{
 "cells": [
  {
   "cell_type": "code",
   "execution_count": 1,
   "metadata": {},
   "outputs": [],
   "source": [
    "import pandas as pd\n",
    "import numpy as np\n",
    "import matplotlib.pyplot as plt\n",
    "import seaborn as sns\n",
    "%matplotlib inline\n",
    "\n",
    "pd.set_option(\"display.max_columns\", None)\n",
    "pd.set_option(\"display.max_rows\", None)\n"
   ]
  },
  {
   "cell_type": "code",
   "execution_count": 2,
   "metadata": {},
   "outputs": [
    {
     "data": {
      "text/html": [
       "<div>\n",
       "<style scoped>\n",
       "    .dataframe tbody tr th:only-of-type {\n",
       "        vertical-align: middle;\n",
       "    }\n",
       "\n",
       "    .dataframe tbody tr th {\n",
       "        vertical-align: top;\n",
       "    }\n",
       "\n",
       "    .dataframe thead th {\n",
       "        text-align: right;\n",
       "    }\n",
       "</style>\n",
       "<table border=\"1\" class=\"dataframe\">\n",
       "  <thead>\n",
       "    <tr style=\"text-align: right;\">\n",
       "      <th></th>\n",
       "      <th>vhigh</th>\n",
       "      <th>vhigh.1</th>\n",
       "      <th>2</th>\n",
       "      <th>2.1</th>\n",
       "      <th>small</th>\n",
       "      <th>low</th>\n",
       "      <th>unacc</th>\n",
       "    </tr>\n",
       "  </thead>\n",
       "  <tbody>\n",
       "    <tr>\n",
       "      <th>0</th>\n",
       "      <td>vhigh</td>\n",
       "      <td>vhigh</td>\n",
       "      <td>2</td>\n",
       "      <td>2</td>\n",
       "      <td>small</td>\n",
       "      <td>med</td>\n",
       "      <td>unacc</td>\n",
       "    </tr>\n",
       "    <tr>\n",
       "      <th>1</th>\n",
       "      <td>vhigh</td>\n",
       "      <td>vhigh</td>\n",
       "      <td>2</td>\n",
       "      <td>2</td>\n",
       "      <td>small</td>\n",
       "      <td>high</td>\n",
       "      <td>unacc</td>\n",
       "    </tr>\n",
       "    <tr>\n",
       "      <th>2</th>\n",
       "      <td>vhigh</td>\n",
       "      <td>vhigh</td>\n",
       "      <td>2</td>\n",
       "      <td>2</td>\n",
       "      <td>med</td>\n",
       "      <td>low</td>\n",
       "      <td>unacc</td>\n",
       "    </tr>\n",
       "    <tr>\n",
       "      <th>3</th>\n",
       "      <td>vhigh</td>\n",
       "      <td>vhigh</td>\n",
       "      <td>2</td>\n",
       "      <td>2</td>\n",
       "      <td>med</td>\n",
       "      <td>med</td>\n",
       "      <td>unacc</td>\n",
       "    </tr>\n",
       "    <tr>\n",
       "      <th>4</th>\n",
       "      <td>vhigh</td>\n",
       "      <td>vhigh</td>\n",
       "      <td>2</td>\n",
       "      <td>2</td>\n",
       "      <td>med</td>\n",
       "      <td>high</td>\n",
       "      <td>unacc</td>\n",
       "    </tr>\n",
       "    <tr>\n",
       "      <th>5</th>\n",
       "      <td>vhigh</td>\n",
       "      <td>vhigh</td>\n",
       "      <td>2</td>\n",
       "      <td>2</td>\n",
       "      <td>big</td>\n",
       "      <td>low</td>\n",
       "      <td>unacc</td>\n",
       "    </tr>\n",
       "    <tr>\n",
       "      <th>6</th>\n",
       "      <td>vhigh</td>\n",
       "      <td>vhigh</td>\n",
       "      <td>2</td>\n",
       "      <td>2</td>\n",
       "      <td>big</td>\n",
       "      <td>med</td>\n",
       "      <td>unacc</td>\n",
       "    </tr>\n",
       "    <tr>\n",
       "      <th>7</th>\n",
       "      <td>vhigh</td>\n",
       "      <td>vhigh</td>\n",
       "      <td>2</td>\n",
       "      <td>2</td>\n",
       "      <td>big</td>\n",
       "      <td>high</td>\n",
       "      <td>unacc</td>\n",
       "    </tr>\n",
       "    <tr>\n",
       "      <th>8</th>\n",
       "      <td>vhigh</td>\n",
       "      <td>vhigh</td>\n",
       "      <td>2</td>\n",
       "      <td>4</td>\n",
       "      <td>small</td>\n",
       "      <td>low</td>\n",
       "      <td>unacc</td>\n",
       "    </tr>\n",
       "    <tr>\n",
       "      <th>9</th>\n",
       "      <td>vhigh</td>\n",
       "      <td>vhigh</td>\n",
       "      <td>2</td>\n",
       "      <td>4</td>\n",
       "      <td>small</td>\n",
       "      <td>med</td>\n",
       "      <td>unacc</td>\n",
       "    </tr>\n",
       "    <tr>\n",
       "      <th>10</th>\n",
       "      <td>vhigh</td>\n",
       "      <td>vhigh</td>\n",
       "      <td>2</td>\n",
       "      <td>4</td>\n",
       "      <td>small</td>\n",
       "      <td>high</td>\n",
       "      <td>unacc</td>\n",
       "    </tr>\n",
       "    <tr>\n",
       "      <th>11</th>\n",
       "      <td>vhigh</td>\n",
       "      <td>vhigh</td>\n",
       "      <td>2</td>\n",
       "      <td>4</td>\n",
       "      <td>med</td>\n",
       "      <td>low</td>\n",
       "      <td>unacc</td>\n",
       "    </tr>\n",
       "    <tr>\n",
       "      <th>12</th>\n",
       "      <td>vhigh</td>\n",
       "      <td>vhigh</td>\n",
       "      <td>2</td>\n",
       "      <td>4</td>\n",
       "      <td>med</td>\n",
       "      <td>med</td>\n",
       "      <td>unacc</td>\n",
       "    </tr>\n",
       "    <tr>\n",
       "      <th>13</th>\n",
       "      <td>vhigh</td>\n",
       "      <td>vhigh</td>\n",
       "      <td>2</td>\n",
       "      <td>4</td>\n",
       "      <td>med</td>\n",
       "      <td>high</td>\n",
       "      <td>unacc</td>\n",
       "    </tr>\n",
       "    <tr>\n",
       "      <th>14</th>\n",
       "      <td>vhigh</td>\n",
       "      <td>vhigh</td>\n",
       "      <td>2</td>\n",
       "      <td>4</td>\n",
       "      <td>big</td>\n",
       "      <td>low</td>\n",
       "      <td>unacc</td>\n",
       "    </tr>\n",
       "  </tbody>\n",
       "</table>\n",
       "</div>"
      ],
      "text/plain": [
       "    vhigh vhigh.1  2 2.1  small   low  unacc\n",
       "0   vhigh   vhigh  2   2  small   med  unacc\n",
       "1   vhigh   vhigh  2   2  small  high  unacc\n",
       "2   vhigh   vhigh  2   2    med   low  unacc\n",
       "3   vhigh   vhigh  2   2    med   med  unacc\n",
       "4   vhigh   vhigh  2   2    med  high  unacc\n",
       "5   vhigh   vhigh  2   2    big   low  unacc\n",
       "6   vhigh   vhigh  2   2    big   med  unacc\n",
       "7   vhigh   vhigh  2   2    big  high  unacc\n",
       "8   vhigh   vhigh  2   4  small   low  unacc\n",
       "9   vhigh   vhigh  2   4  small   med  unacc\n",
       "10  vhigh   vhigh  2   4  small  high  unacc\n",
       "11  vhigh   vhigh  2   4    med   low  unacc\n",
       "12  vhigh   vhigh  2   4    med   med  unacc\n",
       "13  vhigh   vhigh  2   4    med  high  unacc\n",
       "14  vhigh   vhigh  2   4    big   low  unacc"
      ]
     },
     "execution_count": 2,
     "metadata": {},
     "output_type": "execute_result"
    }
   ],
   "source": [
    "dataset = pd.read_csv(\"sample/car_evaluation.csv\")\n",
    "\n",
    "dataset.head(15)"
   ]
  },
  {
   "cell_type": "code",
   "execution_count": 3,
   "metadata": {},
   "outputs": [
    {
     "data": {
      "text/plain": [
       "Index(['vhigh', 'vhigh.1', '2', '2.1', 'small', 'low', 'unacc'], dtype='object')"
      ]
     },
     "execution_count": 3,
     "metadata": {},
     "output_type": "execute_result"
    }
   ],
   "source": [
    "dataset.columns"
   ]
  },
  {
   "cell_type": "code",
   "execution_count": 4,
   "metadata": {},
   "outputs": [],
   "source": [
    "dataset.rename(columns = {'vhigh':'price_buying', 'vhigh.1':'price_maintanance','2':'doors','2.1':'seaters','small':'bootspace','low':'safety','unacc':'decision'}, inplace = True)"
   ]
  },
  {
   "cell_type": "code",
   "execution_count": 5,
   "metadata": {},
   "outputs": [
    {
     "data": {
      "text/plain": [
       "Index(['price_buying', 'price_maintanance', 'doors', 'seaters', 'bootspace',\n",
       "       'safety', 'decision'],\n",
       "      dtype='object')"
      ]
     },
     "execution_count": 5,
     "metadata": {},
     "output_type": "execute_result"
    }
   ],
   "source": [
    "dataset.columns"
   ]
  },
  {
   "cell_type": "code",
   "execution_count": 6,
   "metadata": {},
   "outputs": [
    {
     "data": {
      "text/plain": [
       "price_buying         0\n",
       "price_maintanance    0\n",
       "doors                0\n",
       "seaters              0\n",
       "bootspace            0\n",
       "safety               0\n",
       "decision             0\n",
       "dtype: int64"
      ]
     },
     "execution_count": 6,
     "metadata": {},
     "output_type": "execute_result"
    }
   ],
   "source": [
    "# summarize all null values\n",
    "\n",
    "dataset.isnull().sum()\n"
   ]
  },
  {
   "cell_type": "code",
   "execution_count": 7,
   "metadata": {},
   "outputs": [
    {
     "name": "stdout",
     "output_type": "stream",
     "text": [
      "['price_buying', 'price_maintanance', 'doors', 'seaters', 'bootspace', 'safety', 'decision']\n"
     ]
    }
   ],
   "source": [
    "categorical = [cat_var for cat_var in dataset.columns if dataset[cat_var].dtypes == 'O']\n",
    "print(categorical)\n"
   ]
  },
  {
   "cell_type": "code",
   "execution_count": 8,
   "metadata": {},
   "outputs": [
    {
     "name": "stdout",
     "output_type": "stream",
     "text": [
      "[]\n"
     ]
    }
   ],
   "source": [
    "numerical = [num_var for num_var in dataset.columns if dataset[num_var].dtypes != 'O']\n",
    "print(numerical)"
   ]
  },
  {
   "cell_type": "code",
   "execution_count": 9,
   "metadata": {},
   "outputs": [
    {
     "data": {
      "text/plain": [
       "high     432\n",
       "low      432\n",
       "med      432\n",
       "vhigh    431\n",
       "Name: price_buying, dtype: int64"
      ]
     },
     "execution_count": 9,
     "metadata": {},
     "output_type": "execute_result"
    }
   ],
   "source": [
    "dataset['price_buying'].value_counts()"
   ]
  },
  {
   "cell_type": "code",
   "execution_count": 10,
   "metadata": {},
   "outputs": [
    {
     "data": {
      "text/plain": [
       "high     432\n",
       "low      432\n",
       "med      432\n",
       "vhigh    431\n",
       "Name: price_maintanance, dtype: int64"
      ]
     },
     "execution_count": 10,
     "metadata": {},
     "output_type": "execute_result"
    }
   ],
   "source": [
    "dataset['price_maintanance'].value_counts()"
   ]
  },
  {
   "cell_type": "code",
   "execution_count": 11,
   "metadata": {},
   "outputs": [
    {
     "data": {
      "text/plain": [
       "4        432\n",
       "5more    432\n",
       "3        432\n",
       "2        431\n",
       "Name: doors, dtype: int64"
      ]
     },
     "execution_count": 11,
     "metadata": {},
     "output_type": "execute_result"
    }
   ],
   "source": [
    "dataset['doors'].value_counts()"
   ]
  },
  {
   "cell_type": "code",
   "execution_count": 12,
   "metadata": {},
   "outputs": [
    {
     "data": {
      "text/plain": [
       "4       576\n",
       "more    576\n",
       "2       575\n",
       "Name: seaters, dtype: int64"
      ]
     },
     "execution_count": 12,
     "metadata": {},
     "output_type": "execute_result"
    }
   ],
   "source": [
    "dataset['seaters'].value_counts()"
   ]
  },
  {
   "cell_type": "code",
   "execution_count": 13,
   "metadata": {},
   "outputs": [
    {
     "data": {
      "text/plain": [
       "big      576\n",
       "med      576\n",
       "small    575\n",
       "Name: bootspace, dtype: int64"
      ]
     },
     "execution_count": 13,
     "metadata": {},
     "output_type": "execute_result"
    }
   ],
   "source": [
    "dataset['bootspace'].value_counts()"
   ]
  },
  {
   "cell_type": "code",
   "execution_count": 14,
   "metadata": {},
   "outputs": [
    {
     "data": {
      "text/plain": [
       "high    576\n",
       "med     576\n",
       "low     575\n",
       "Name: safety, dtype: int64"
      ]
     },
     "execution_count": 14,
     "metadata": {},
     "output_type": "execute_result"
    }
   ],
   "source": [
    "dataset['safety'].value_counts()"
   ]
  },
  {
   "cell_type": "code",
   "execution_count": 15,
   "metadata": {},
   "outputs": [
    {
     "data": {
      "text/plain": [
       "unacc    1209\n",
       "acc       384\n",
       "good       69\n",
       "vgood      65\n",
       "Name: decision, dtype: int64"
      ]
     },
     "execution_count": 15,
     "metadata": {},
     "output_type": "execute_result"
    }
   ],
   "source": [
    "dataset['decision'].value_counts()"
   ]
  },
  {
   "cell_type": "code",
   "execution_count": 16,
   "metadata": {},
   "outputs": [],
   "source": [
    "# We have decided that the decision as the target variable"
   ]
  },
  {
   "cell_type": "code",
   "execution_count": 17,
   "metadata": {},
   "outputs": [
    {
     "name": "stdout",
     "output_type": "stream",
     "text": [
      "Requirement already satisfied: category_encoders in c:\\anaconda_navigator\\lib\\site-packages (2.2.2)\n",
      "Requirement already satisfied: statsmodels>=0.9.0 in c:\\anaconda_navigator\\lib\\site-packages (from category_encoders) (0.12.0)\n",
      "Requirement already satisfied: scikit-learn>=0.20.0 in c:\\anaconda_navigator\\lib\\site-packages (from category_encoders) (0.23.2)\n",
      "Requirement already satisfied: patsy>=0.5.1 in c:\\anaconda_navigator\\lib\\site-packages (from category_encoders) (0.5.1)\n",
      "Requirement already satisfied: numpy>=1.14.0 in c:\\anaconda_navigator\\lib\\site-packages (from category_encoders) (1.19.2)\n",
      "Requirement already satisfied: pandas>=0.21.1 in c:\\anaconda_navigator\\lib\\site-packages (from category_encoders) (1.1.3)\n",
      "Requirement already satisfied: scipy>=1.0.0 in c:\\anaconda_navigator\\lib\\site-packages (from category_encoders) (1.5.2)\n",
      "Requirement already satisfied: threadpoolctl>=2.0.0 in c:\\anaconda_navigator\\lib\\site-packages (from scikit-learn>=0.20.0->category_encoders) (2.1.0)\n",
      "Requirement already satisfied: joblib>=0.11 in c:\\anaconda_navigator\\lib\\site-packages (from scikit-learn>=0.20.0->category_encoders) (0.17.0)\n",
      "Requirement already satisfied: six in c:\\anaconda_navigator\\lib\\site-packages (from patsy>=0.5.1->category_encoders) (1.15.0)\n",
      "Requirement already satisfied: python-dateutil>=2.7.3 in c:\\anaconda_navigator\\lib\\site-packages (from pandas>=0.21.1->category_encoders) (2.8.1)\n",
      "Requirement already satisfied: pytz>=2017.2 in c:\\anaconda_navigator\\lib\\site-packages (from pandas>=0.21.1->category_encoders) (2020.1)\n",
      "Note: you may need to restart the kernel to use updated packages.\n"
     ]
    }
   ],
   "source": [
    "pip install category_encoders\n"
   ]
  },
  {
   "cell_type": "code",
   "execution_count": 18,
   "metadata": {},
   "outputs": [],
   "source": [
    "import category_encoders as ce\n",
    "encoders = ce.OrdinalEncoder(cols = ['price_buying', 'price_maintanance', 'doors', 'seaters', 'bootspace', 'safety'])\n"
   ]
  },
  {
   "cell_type": "code",
   "execution_count": 19,
   "metadata": {},
   "outputs": [],
   "source": [
    "x1 = dataset.drop(['decision'], axis = 1)\n",
    "y1 = dataset['decision']"
   ]
  },
  {
   "cell_type": "code",
   "execution_count": 20,
   "metadata": {},
   "outputs": [
    {
     "name": "stderr",
     "output_type": "stream",
     "text": [
      "C:\\Anaconda_Navigator\\lib\\site-packages\\category_encoders\\utils.py:21: FutureWarning: is_categorical is deprecated and will be removed in a future version.  Use is_categorical_dtype instead\n",
      "  elif pd.api.types.is_categorical(cols):\n"
     ]
    }
   ],
   "source": [
    "x1 = encoders.fit_transform(x1)"
   ]
  },
  {
   "cell_type": "code",
   "execution_count": 21,
   "metadata": {},
   "outputs": [],
   "source": [
    "from sklearn.model_selection import train_test_split as ttst\n",
    "x1_train, x1_test, y1_train, y1_test = ttst(x1,y1, test_size = 0.45, random_state = 0)\n",
    "\n"
   ]
  },
  {
   "cell_type": "code",
   "execution_count": 22,
   "metadata": {},
   "outputs": [
    {
     "data": {
      "text/plain": [
       "RandomForestClassifier(random_state=0)"
      ]
     },
     "execution_count": 22,
     "metadata": {},
     "output_type": "execute_result"
    }
   ],
   "source": [
    "# default n_estimator\n",
    "from sklearn.ensemble import RandomForestClassifier as RFC\n",
    "rfc_default_classifier = RFC(random_state = 0)\n",
    "\n",
    "rfc_default_classifier.fit(x1_train, y1_train)"
   ]
  },
  {
   "cell_type": "code",
   "execution_count": 23,
   "metadata": {},
   "outputs": [],
   "source": [
    "y_default_predict = rfc_default_classifier.predict(x1_test)"
   ]
  },
  {
   "cell_type": "code",
   "execution_count": 24,
   "metadata": {},
   "outputs": [
    {
     "name": "stdout",
     "output_type": "stream",
     "text": [
      " The accuracy score is:   96.7866323907455  \n",
      " and the confusion matrix are: \n",
      " \n",
      "  [[170   1   2   0]\n",
      " [  4  22   0   3]\n",
      " [  6   0 533   0]\n",
      " [  9   0   0  28]] \n",
      " \n",
      " \n",
      " \n",
      " \n",
      " \n",
      "   Classification Report \n",
      " \n",
      "                precision    recall  f1-score   support\n",
      "\n",
      "         acc       0.90      0.98      0.94       173\n",
      "        good       0.96      0.76      0.85        29\n",
      "       unacc       1.00      0.99      0.99       539\n",
      "       vgood       0.90      0.76      0.82        37\n",
      "\n",
      "    accuracy                           0.97       778\n",
      "   macro avg       0.94      0.87      0.90       778\n",
      "weighted avg       0.97      0.97      0.97       778\n",
      "\n"
     ]
    }
   ],
   "source": [
    "from sklearn.metrics import accuracy_score, confusion_matrix, classification_report\n",
    "\n",
    "cm1 = confusion_matrix(y1_test,y_default_predict)\n",
    "acs1 = accuracy_score(y1_test,y_default_predict) * 100\n",
    "y_def_clsrpr = classification_report(y1_test,y_default_predict)\n",
    "\n",
    "print(\" The accuracy score is:  \",acs1,\" \\n and the confusion matrix are: \\n \\n \", cm1, \"\\n \\n \\n \\n \\n \\n \",\" Classification Report \\n \\n \",y_def_clsrpr)"
   ]
  },
  {
   "cell_type": "code",
   "execution_count": 25,
   "metadata": {},
   "outputs": [],
   "source": [
    "# Let us see for 10 estimator\n",
    "\n",
    "x2 = dataset.drop(['decision'], axis = 1)\n",
    "y2 = dataset['decision']"
   ]
  },
  {
   "cell_type": "code",
   "execution_count": 26,
   "metadata": {},
   "outputs": [
    {
     "name": "stderr",
     "output_type": "stream",
     "text": [
      "C:\\Anaconda_Navigator\\lib\\site-packages\\category_encoders\\utils.py:21: FutureWarning: is_categorical is deprecated and will be removed in a future version.  Use is_categorical_dtype instead\n",
      "  elif pd.api.types.is_categorical(cols):\n"
     ]
    }
   ],
   "source": [
    "x2 = encoders.fit_transform(x2)"
   ]
  },
  {
   "cell_type": "code",
   "execution_count": 27,
   "metadata": {},
   "outputs": [],
   "source": [
    "from sklearn.model_selection import train_test_split as ttst\n",
    "x2_train, x2_test, y2_train, y2_test = ttst(x2,y2, test_size = 0.45, random_state = 0)\n",
    "\n"
   ]
  },
  {
   "cell_type": "code",
   "execution_count": 28,
   "metadata": {},
   "outputs": [
    {
     "data": {
      "text/plain": [
       "RandomForestClassifier(n_estimators=10, random_state=0)"
      ]
     },
     "execution_count": 28,
     "metadata": {},
     "output_type": "execute_result"
    }
   ],
   "source": [
    "from sklearn.ensemble import RandomForestClassifier as RFC\n",
    "rfc_10_classifier = RFC(n_estimators = 10, random_state = 0)\n",
    "\n",
    "rfc_10_classifier.fit(x1_train, y1_train)"
   ]
  },
  {
   "cell_type": "code",
   "execution_count": 29,
   "metadata": {},
   "outputs": [],
   "source": [
    "y_10_predict = rfc_10_classifier.predict(x2_test)"
   ]
  },
  {
   "cell_type": "code",
   "execution_count": 30,
   "metadata": {},
   "outputs": [
    {
     "name": "stdout",
     "output_type": "stream",
     "text": [
      " The accuracy score is:   96.65809768637533  \n",
      " and the confusion matrix are: \n",
      " \n",
      "  [[168   2   3   0]\n",
      " [  4  22   0   3]\n",
      " [  7   0 532   0]\n",
      " [  7   0   0  30]] \n",
      " \n",
      " \n",
      " \n",
      " \n",
      " \n",
      "   Classification Report \n",
      " \n",
      "                precision    recall  f1-score   support\n",
      "\n",
      "         acc       0.90      0.97      0.94       173\n",
      "        good       0.92      0.76      0.83        29\n",
      "       unacc       0.99      0.99      0.99       539\n",
      "       vgood       0.91      0.81      0.86        37\n",
      "\n",
      "    accuracy                           0.97       778\n",
      "   macro avg       0.93      0.88      0.90       778\n",
      "weighted avg       0.97      0.97      0.97       778\n",
      "\n"
     ]
    }
   ],
   "source": [
    "from sklearn.metrics import accuracy_score, confusion_matrix, classification_report\n",
    "\n",
    "cm2 = confusion_matrix(y2_test,y_10_predict)\n",
    "acs2 = accuracy_score(y2_test,y_10_predict) * 100\n",
    "y_10_clsrpr = classification_report(y2_test,y_10_predict)\n",
    "\n",
    "print(\" The accuracy score is:  \",acs2,\" \\n and the confusion matrix are: \\n \\n \", cm2, \"\\n \\n \\n \\n \\n \\n \",\" Classification Report \\n \\n \",y_10_clsrpr)"
   ]
  },
  {
   "cell_type": "code",
   "execution_count": 31,
   "metadata": {},
   "outputs": [],
   "source": [
    "x3= dataset.drop(['decision'], axis = 1)\n",
    "y3 = dataset['decision']"
   ]
  },
  {
   "cell_type": "code",
   "execution_count": 32,
   "metadata": {},
   "outputs": [
    {
     "name": "stderr",
     "output_type": "stream",
     "text": [
      "C:\\Anaconda_Navigator\\lib\\site-packages\\category_encoders\\utils.py:21: FutureWarning: is_categorical is deprecated and will be removed in a future version.  Use is_categorical_dtype instead\n",
      "  elif pd.api.types.is_categorical(cols):\n"
     ]
    }
   ],
   "source": [
    "x3 = encoders.fit_transform(x1)"
   ]
  },
  {
   "cell_type": "code",
   "execution_count": 33,
   "metadata": {},
   "outputs": [],
   "source": [
    "from sklearn.model_selection import train_test_split as ttst\n",
    "x3_train, x3_test, y3_train, y3_test = ttst(x3,y3, test_size = 0.45, random_state = 0)\n",
    "\n"
   ]
  },
  {
   "cell_type": "code",
   "execution_count": 34,
   "metadata": {},
   "outputs": [
    {
     "data": {
      "text/plain": [
       "RandomForestClassifier(random_state=0)"
      ]
     },
     "execution_count": 34,
     "metadata": {},
     "output_type": "execute_result"
    }
   ],
   "source": [
    "from sklearn.ensemble import RandomForestClassifier as RFC\n",
    "rfc_100_classifier = RFC(n_estimators = 100, random_state = 0)\n",
    "\n",
    "rfc_100_classifier.fit(x1_train, y1_train)"
   ]
  },
  {
   "cell_type": "code",
   "execution_count": 35,
   "metadata": {},
   "outputs": [],
   "source": [
    "y_100_predict = rfc_100_classifier.predict(x2_test)"
   ]
  },
  {
   "cell_type": "code",
   "execution_count": 36,
   "metadata": {},
   "outputs": [
    {
     "name": "stdout",
     "output_type": "stream",
     "text": [
      " The accuracy score is:   96.7866323907455  \n",
      " and the confusion matrix are: \n",
      " \n",
      "  [[170   1   2   0]\n",
      " [  4  22   0   3]\n",
      " [  6   0 533   0]\n",
      " [  9   0   0  28]] \n",
      " \n",
      " \n",
      " \n",
      " \n",
      " \n",
      "   Classification Report \n",
      " \n",
      "                precision    recall  f1-score   support\n",
      "\n",
      "         acc       0.90      0.98      0.94       173\n",
      "        good       0.96      0.76      0.85        29\n",
      "       unacc       1.00      0.99      0.99       539\n",
      "       vgood       0.90      0.76      0.82        37\n",
      "\n",
      "    accuracy                           0.97       778\n",
      "   macro avg       0.94      0.87      0.90       778\n",
      "weighted avg       0.97      0.97      0.97       778\n",
      "\n"
     ]
    }
   ],
   "source": [
    "from sklearn.metrics import accuracy_score, confusion_matrix, classification_report\n",
    "\n",
    "cm3 = confusion_matrix(y2_test,y_100_predict)\n",
    "acs3 = accuracy_score(y2_test,y_100_predict) * 100\n",
    "y_100_clsrpr = classification_report(y2_test,y_100_predict)\n",
    "\n",
    "print(\" The accuracy score is:  \",acs3,\" \\n and the confusion matrix are: \\n \\n \", cm3, \"\\n \\n \\n \\n \\n \\n \",\" Classification Report \\n \\n \",y_100_clsrpr)"
   ]
  },
  {
   "cell_type": "code",
   "execution_count": null,
   "metadata": {},
   "outputs": [],
   "source": []
  }
 ],
 "metadata": {
  "kernelspec": {
   "display_name": "Python 3",
   "language": "python",
   "name": "python3"
  },
  "language_info": {
   "codemirror_mode": {
    "name": "ipython",
    "version": 3
   },
   "file_extension": ".py",
   "mimetype": "text/x-python",
   "name": "python",
   "nbconvert_exporter": "python",
   "pygments_lexer": "ipython3",
   "version": "3.8.5"
  }
 },
 "nbformat": 4,
 "nbformat_minor": 4
}
