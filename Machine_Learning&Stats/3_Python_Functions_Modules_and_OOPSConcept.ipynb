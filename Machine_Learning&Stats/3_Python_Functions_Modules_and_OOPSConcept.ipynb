{
 "cells": [
  {
   "cell_type": "markdown",
   "metadata": {},
   "source": [
    "## Python functions \n",
    "\n",
    "* Functions help break our program into smaller and modular chunks. \n",
    "* As our program grows larger and larger, functions make it more organized and manageable.\n",
    "* Furthermore, it avoids repetition and makes the code reusable."
   ]
  },
  {
   "cell_type": "markdown",
   "metadata": {},
   "source": [
    "### Let us put our learning in third gear. It's getting serious now. Python function helps us be a better human being. Code re-usability is most important. Please read on..."
   ]
  },
  {
   "cell_type": "code",
   "execution_count": 1,
   "metadata": {},
   "outputs": [
    {
     "name": "stdout",
     "output_type": "stream",
     "text": [
      "Enter a value 5\n",
      "Enter a value 25\n",
      "The Sum is:  30\n",
      "The difference is:  20\n"
     ]
    }
   ],
   "source": [
    "a = int(input(\"Enter a value \"))\n",
    "b = int(input(\"Enter a value \"))\n",
    "\n",
    "def add(a,b):\n",
    "    return a+b\n",
    "def sub(a,b):\n",
    "    if a <= b:\n",
    "        return abs(a-b)\n",
    "    else:\n",
    "        return b-a\n",
    "    \n",
    "print(\"The Sum is: \", add(a,b))\n",
    "print(\"The difference is: \",sub(a,b))"
   ]
  },
  {
   "cell_type": "code",
   "execution_count": 2,
   "metadata": {},
   "outputs": [
    {
     "name": "stdout",
     "output_type": "stream",
     "text": [
      "Select operation.\n",
      "1.Add\n",
      "2.Subtract\n",
      "3.Multiply\n",
      "4.Divide\n",
      "Enter choice(1/2/3/4): 1\n",
      "Enter first number: 25\n",
      "Enter second number: 35\n",
      "25.0 + 35.0 = 60.0\n"
     ]
    }
   ],
   "source": [
    "# Program make a simple calculator\n",
    "\n",
    "# This function adds two numbers\n",
    "def add(x, y):\n",
    "    return x + y\n",
    "\n",
    "# This function subtracts two numbers\n",
    "def subtract(x, y):\n",
    "    return x - y\n",
    "\n",
    "# This function multiplies two numbers\n",
    "def multiply(x, y):\n",
    "    return x * y\n",
    "\n",
    "# This function divides two numbers\n",
    "def divide(x, y):\n",
    "    return x / y\n",
    "\n",
    "\n",
    "print(\"Select operation.\")\n",
    "print(\"1.Add\")\n",
    "print(\"2.Subtract\")\n",
    "print(\"3.Multiply\")\n",
    "print(\"4.Divide\")\n",
    "\n",
    "while True:\n",
    "    # Take input from the user\n",
    "    choice = input(\"Enter choice(1/2/3/4): \")\n",
    "\n",
    "    # Check if choice is one of the four options\n",
    "    if choice in ('1', '2', '3', '4'):\n",
    "        num1 = float(input(\"Enter first number: \"))\n",
    "        num2 = float(input(\"Enter second number: \"))\n",
    "\n",
    "        if choice == '1':\n",
    "            print(num1, \"+\", num2, \"=\", add(num1, num2))\n",
    "\n",
    "        elif choice == '2':\n",
    "            print(num1, \"-\", num2, \"=\", subtract(num1, num2))\n",
    "\n",
    "        elif choice == '3':\n",
    "            print(num1, \"*\", num2, \"=\", multiply(num1, num2))\n",
    "\n",
    "        elif choice == '4':\n",
    "            print(num1, \"/\", num2, \"=\", divide(num1, num2))\n",
    "        break\n",
    "    else:\n",
    "        print(\"Invalid Input\")"
   ]
  },
  {
   "cell_type": "code",
   "execution_count": 5,
   "metadata": {},
   "outputs": [
    {
     "name": "stdout",
     "output_type": "stream",
     "text": [
      "Enter a number 12\n",
      "Fibonacci sequence:\n",
      "0\n",
      "1\n",
      "1\n",
      "2\n",
      "3\n",
      "5\n",
      "8\n",
      "13\n",
      "21\n",
      "34\n",
      "55\n",
      "89\n"
     ]
    }
   ],
   "source": [
    "# Python program to display the Fibonacci sequence\n",
    "\n",
    "def recur_fibo(n):\n",
    "    if n <= 1:\n",
    "        return n\n",
    "    else:\n",
    "        return(recur_fibo(n-1) + recur_fibo(n-2))\n",
    "\n",
    "nterms = int(input(\"Enter a number \"))\n",
    "\n",
    "# check if the number of terms is valid\n",
    "if nterms <= 0:\n",
    "    print(\"Plese enter a positive integer\")\n",
    "else:\n",
    "    print(\"Fibonacci sequence:\")\n",
    "    for i in range(nterms):\n",
    "        print(recur_fibo(i))"
   ]
  },
  {
   "cell_type": "markdown",
   "metadata": {},
   "source": [
    "Functions are of three categories:\n",
    "\n",
    "    1. Pre-defined function: Functions which is already defined by the developers which can be used.\n",
    "    2. user-defined function: Functionn which is defined by used using def keyword as shown above.\n",
    "    3. Anonymous function: Function which is defined using the keyword lambda as show below."
   ]
  },
  {
   "cell_type": "code",
   "execution_count": 6,
   "metadata": {},
   "outputs": [
    {
     "name": "stdout",
     "output_type": "stream",
     "text": [
      "25\n"
     ]
    }
   ],
   "source": [
    "# Lambda\n",
    "\n",
    "#Lambda functions can have any number of arguments but only one expression. \n",
    "#The expression is evaluated and returned. Lambda functions can be used wherever function objects are required.\n",
    "\n",
    "double = lambda x : x ** 2\n",
    "\n",
    "print(double(5))"
   ]
  },
  {
   "cell_type": "code",
   "execution_count": 7,
   "metadata": {},
   "outputs": [
    {
     "name": "stdout",
     "output_type": "stream",
     "text": [
      "The factorial of 7 is 5040\n"
     ]
    }
   ],
   "source": [
    "# Recursion\n",
    "\n",
    "#Recursion is the process of defining something in terms of itself.\n",
    "#A physical world example would be to place two parallel mirrors facing each other. \n",
    "#Any object in between them would be reflected recursively.\n",
    "\n",
    "# Factorial of a number using recursion\n",
    "\n",
    "def recur_factorial(n):\n",
    "    if n == 1:\n",
    "        return n\n",
    "    else:\n",
    "        return n*recur_factorial(n-1)\n",
    "\n",
    "num = 7\n",
    "\n",
    "# check if the number is negative\n",
    "if num < 0:\n",
    "    print(\"Sorry, factorial does not exist for negative numbers\")\n",
    "elif num == 0:\n",
    "    print(\"The factorial of 0 is 1\")\n",
    "else:\n",
    "    print(\"The factorial of\", num, \"is\", recur_factorial(num)) "
   ]
  },
  {
   "cell_type": "markdown",
   "metadata": {},
   "source": [
    "## Modules :: This will be covered when learning about pandas, numpy, python visulisation."
   ]
  },
  {
   "cell_type": "markdown",
   "metadata": {},
   "source": [
    "## OOPS concept : class and object"
   ]
  },
  {
   "cell_type": "markdown",
   "metadata": {},
   "source": [
    "* Python is an higher level language which means it supports Object Orient Programmings(OOPs) concept.\n",
    "* Python is a multi-paradigm programming language. It supports different programming approaches.\n",
    "* One of the popular approaches to solve a programming problem is by creating objects. \n",
    "\n",
    "* An object has two characteristics:\n",
    "\n",
    "    1. attributes\n",
    "    2. behavior\n",
    "\n",
    "* Let's take an example:\n",
    "\n",
    "    A parrot is can be an object,as it has the following properties:\n",
    "\n",
    "        * name, age, color as attributes\n",
    "        * singing, dancing as behavior\n",
    "\n",
    "* The concept of OOP in Python focuses on creating reusable code. This concept is also known as DRY (Don't Repeat Yourself).\n",
    "\n",
    "* In Python, the concept of OOP follows some basic principles:\n",
    "\n",
    "    1. class : A class is a blueprint for the object.\n",
    "    2. object: (instance) is an instantiation of a class. When class is defined, only the description for the object is                defined. Therefore, no memory or storage is allocated.\n",
    "    3. methods: Methods are functions defined inside the body of a class. They are used to define the behaviors of an                  object.\n",
    "    4. Inheritance: Inheritance is a way of creating a new class for using details of an existing class without modifying              it. The newly formed class is a derived class (or child class). Similarly, the existing class is a base class              (or parent class).\n",
    "    5. Encapsulation: Using OOP in Python, we can restrict access to methods and variables. This prevents data from direct            modification which is called encapsulation. In Python, we denote private attributes using underscore as the                prefix i.e single _ or double __ .\n",
    "    6. Polymorphism: Polymorphism is an ability (in OOP) to use a common interface for multiple forms (data types)."
   ]
  },
  {
   "cell_type": "code",
   "execution_count": 11,
   "metadata": {},
   "outputs": [
    {
     "name": "stdout",
     "output_type": "stream",
     "text": [
      "Blue is a bird\n",
      "Blue is a bird\n",
      "daffy is a dog\n",
      "labby is a dog\n",
      "Blue is 5 years old\n",
      "Woo is 7 years old\n",
      "Daffy is 2 years old\n",
      "Labrodor_labby is 3 years old\n"
     ]
    }
   ],
   "source": [
    "# class and object\n",
    "\n",
    "class Parrot:#Class named parrot\n",
    "    #class attributes\n",
    "    species1 = 'bird'\n",
    "    species2 = 'dog'\n",
    "    \n",
    "    #instance attributes\n",
    "    def __init__(self, name, age):\n",
    "        self.name = name\n",
    "        self.age = age\n",
    "        \n",
    "# instantiate the parrot class\n",
    "#object as blu, woo, daffy, labby\n",
    "\n",
    "blu = Parrot(\"Blue\", 5) #Parrot class two object when called, name and age. \n",
    "woo = Parrot(\"Woo\", 7)\n",
    "daffy = Parrot(\"Daffy\", 2)\n",
    "labby = Parrot(\"Labrodor_labby\", 3)\n",
    "\n",
    "#access class attributes either species1 = bird or species2 = dog\n",
    "print(\"Blue is a {}\".format(blu.__class__.species1))\n",
    "print(\"Blue is a {}\".format(woo.__class__.species1))\n",
    "print(\"daffy is a {}\".format(daffy.__class__.species2))\n",
    "print(\"labby is a {}\".format(labby.__class__.species2))\n",
    "\n",
    "#access class instances either name, age or both\n",
    "print(\"{} is {} years old\".format( blu.name, blu.age))\n",
    "print(\"{} is {} years old\".format( woo.name, woo.age))\n",
    "print(\"{} is {} years old\".format( daffy.name, daffy.age))\n",
    "print(\"{} is {} years old\".format( labby.name, labby.age))"
   ]
  },
  {
   "cell_type": "code",
   "execution_count": 14,
   "metadata": {},
   "outputs": [
    {
     "name": "stdout",
     "output_type": "stream",
     "text": [
      " Blue has the ability to flight\n",
      " Woo has the ability to flight\n",
      " Daffy has the ability to running\n",
      " Labrodor_labby has the ability to walking\n",
      "Blue has the ability to stand, sit and hence it is biped\n",
      "Woo has the ability to stand, sit and hence it is biped\n",
      "Daffy has the ability to stand, sit and hence it is quadped\n",
      "Labrodor_labby has the ability to stand, sit and hence it is quadped\n"
     ]
    }
   ],
   "source": [
    "#class, instance, object and method\n",
    "class Parrot:#Class named parrot\n",
    "    #class attributes\n",
    "    species1 = 'bird'\n",
    "    species2 = 'dog'\n",
    "    \n",
    "    #instance attributes\n",
    "    def __init__(self, name, age):\n",
    "        self.name = name\n",
    "        self.age = age\n",
    "        \n",
    "    #instance method\n",
    "    def mobility(self, movement):\n",
    "        return \" {} has the ability to {}\".format(self.name,movement)\n",
    "    \n",
    "    #instance method\n",
    "    def support(self, legs):\n",
    "        return \"{} has the ability to stand, sit and hence it is {}\".format(self.name, legs)\n",
    "        \n",
    "# instantiate the parrot class\n",
    "#object as blu, woo, daffy, labby\n",
    "\n",
    "blu = Parrot(\"Blue\", 5) #Parrot class two object when called, name and age. \n",
    "woo = Parrot(\"Woo\", 7)\n",
    "daffy = Parrot(\"Daffy\", 2)\n",
    "labby = Parrot(\"Labrodor_labby\", 3)\n",
    "\n",
    "#call our instance methods\n",
    "print(blu.mobility('flight'))\n",
    "print(woo.mobility('flight'))\n",
    "print(daffy.mobility('running'))\n",
    "print(labby.mobility('walking'))\n",
    "\n",
    "print(blu.support('biped'))\n",
    "print(woo.support('biped'))\n",
    "print(daffy.support('quadped'))\n",
    "print(labby.support('quadped'))"
   ]
  },
  {
   "cell_type": "code",
   "execution_count": 15,
   "metadata": {},
   "outputs": [
    {
     "name": "stdout",
     "output_type": "stream",
     "text": [
      "Bird is ready\n",
      "Penguin is ready\n",
      "Penguin\n",
      "fast swimmer\n",
      "Run faster\n"
     ]
    }
   ],
   "source": [
    "#inheritance\n",
    "\n",
    "#parent class Bird\n",
    "class Bird:\n",
    "    \n",
    "    def __init__(self):\n",
    "        print(\"Bird is ready\")\n",
    "    \n",
    "    def whois(self):\n",
    "        print(\"Bird\")\n",
    "    \n",
    "    def swim(self):\n",
    "        print(\"fast swimmer\")\n",
    "        \n",
    "#child class Penguin\n",
    "class Penguin(Bird):\n",
    "    \n",
    "    def __init__(self):\n",
    "        # call super() function\n",
    "        super().__init__()\n",
    "        print(\"Penguin is ready\")\n",
    "\n",
    "    def whois(self):\n",
    "        print(\"Penguin\")\n",
    "\n",
    "    def run(self):\n",
    "        print(\"Run faster\")\n",
    "\n",
    "peggy = Penguin()\n",
    "peggy.whois()\n",
    "peggy.swim()\n",
    "peggy.run()"
   ]
  },
  {
   "cell_type": "markdown",
   "metadata": {},
   "source": [
    "* The super() builtin returns a proxy object (temporary object of the superclass) that allows us to access methods of the base class.\n",
    "* In Python, super() has two major use cases:\n",
    "\n",
    "    1. Allows us to avoid using the base class name explicitly\n",
    "    2. Working with Multiple Inheritance"
   ]
  },
  {
   "cell_type": "code",
   "execution_count": 16,
   "metadata": {},
   "outputs": [
    {
     "name": "stdout",
     "output_type": "stream",
     "text": [
      "Selling Price: 900\n",
      "Selling Price: 900\n",
      "Selling Price: 1000\n"
     ]
    }
   ],
   "source": [
    "# encapsulation\n",
    "\n",
    "class Computer:\n",
    "\n",
    "    def __init__(self):\n",
    "        self.__maxprice = 900\n",
    "\n",
    "    def sell(self):\n",
    "        print(\"Selling Price: {}\".format(self.__maxprice))\n",
    "\n",
    "    def setMaxPrice(self, price):\n",
    "        self.__maxprice = price\n",
    "\n",
    "c = Computer()\n",
    "c.sell()\n",
    "\n",
    "# change the price\n",
    "c.__maxprice = 1000\n",
    "c.sell()\n",
    "\n",
    "# using setter function\n",
    "c.setMaxPrice(1000)\n",
    "c.sell()"
   ]
  },
  {
   "cell_type": "markdown",
   "metadata": {},
   "source": [
    "* In the above program, we defined a Computer class.\n",
    "* We used __init__() method to store the maximum selling price of Computer. We tried to modify the price. However, we can't change it because Python treats the __maxprice as private attributes.\n",
    "* As shown, to change the value, we have to use a setter function i.e setMaxPrice() which takes price as a parameter."
   ]
  },
  {
   "cell_type": "code",
   "execution_count": 17,
   "metadata": {},
   "outputs": [
    {
     "name": "stdout",
     "output_type": "stream",
     "text": [
      "Parrot can fly\n",
      "Penguin can't fly\n"
     ]
    }
   ],
   "source": [
    "# Polymorphism\n",
    "\n",
    "class Parrot:\n",
    "\n",
    "    def fly(self):\n",
    "        print(\"Parrot can fly\")\n",
    "    \n",
    "    def swim(self):\n",
    "        print(\"Parrot can't swim\")\n",
    "\n",
    "class Penguin:\n",
    "\n",
    "    def fly(self):\n",
    "        print(\"Penguin can't fly\")\n",
    "    \n",
    "    def swim(self):\n",
    "        print(\"Penguin can swim\")\n",
    "\n",
    "# common interface\n",
    "def flying_test(bird):\n",
    "    bird.fly()\n",
    "\n",
    "#instantiate objects\n",
    "blu = Parrot()\n",
    "peggy = Penguin()\n",
    "\n",
    "# passing the object\n",
    "flying_test(blu)\n",
    "flying_test(peggy)"
   ]
  },
  {
   "cell_type": "markdown",
   "metadata": {},
   "source": [
    "* In the above program, we defined two classes Parrot and Penguin. Each of them have a common fly() method. However, their functions are different.\n",
    "\n",
    "* To use polymorphism, we created a common interface i.e flying_test() function that takes any object and calls the object's fly() method. Thus, when we passed the blu and peggy objects in the flying_test() function, it ran effectively."
   ]
  },
  {
   "cell_type": "markdown",
   "metadata": {},
   "source": [
    "## Overview of OOP Terminology\n",
    "\n",
    "    1. Class − A user-defined prototype for an object that defines a set of attributes that characterize any object of the class. The attributes are data members (class variables and instance variables) and methods, accessed via dot notation.\n",
    "\n",
    "    2. Class variable − A variable that is shared by all instances of a class. Class variables are defined within a class but outside any of the class's methods. Class variables are not used as frequently as instance variables are.\n",
    "\n",
    "    3. Data member − A class variable or instance variable that holds data associated with a class and its objects.\n",
    "\n",
    "    4. Function overloading − The assignment of more than one behavior to a particular function. The operation performed varies by the types of objects or arguments involved.\n",
    "\n",
    "    5. Instance variable − A variable that is defined inside a method and belongs only to the current instance of a class.\n",
    "\n",
    "    6. Inheritance − The transfer of the characteristics of a class to other classes that are derived from it.\n",
    "\n",
    "    7. Instance − An individual object of a certain class. An object obj that belongs to a class Circle, for example, is an instance of the class Circle.\n",
    "\n",
    "    8. Instantiation − The creation of an instance of a class.\n",
    "\n",
    "    9. Method − A special kind of function that is defined in a class definition.\n",
    "\n",
    "    10. Object − A unique instance of a data structure that's defined by its class. An object comprises both data members (class variables and instance variables) and methods.\n",
    "\n",
    "    11. Operator overloading − The assignment of more than one function to a particular operator."
   ]
  },
  {
   "cell_type": "markdown",
   "metadata": {},
   "source": [
    "###### multiple inhritance\n",
    " try it out\n",
    "\n",
    "refer link:: https://www.programiz.com/python-programming/multiple-inheritance"
   ]
  },
  {
   "cell_type": "code",
   "execution_count": null,
   "metadata": {},
   "outputs": [],
   "source": []
  }
 ],
 "metadata": {
  "kernelspec": {
   "display_name": "Python 3",
   "language": "python",
   "name": "python3"
  },
  "language_info": {
   "codemirror_mode": {
    "name": "ipython",
    "version": 3
   },
   "file_extension": ".py",
   "mimetype": "text/x-python",
   "name": "python",
   "nbconvert_exporter": "python",
   "pygments_lexer": "ipython3",
   "version": "3.7.4"
  }
 },
 "nbformat": 4,
 "nbformat_minor": 2
}
