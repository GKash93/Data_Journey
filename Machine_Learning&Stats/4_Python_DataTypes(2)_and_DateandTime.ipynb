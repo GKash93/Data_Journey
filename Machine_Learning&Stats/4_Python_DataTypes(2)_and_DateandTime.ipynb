{
 "cells": [
  {
   "cell_type": "markdown",
   "metadata": {},
   "source": [
    "## LISTS\n",
    "\n",
    "* Lists are a versatible datatypes used to store multiple variables , it can be integer, float and strings. List are always entered with a pair of square brackets."
   ]
  },
  {
   "cell_type": "code",
   "execution_count": 1,
   "metadata": {},
   "outputs": [
    {
     "name": "stdout",
     "output_type": "stream",
     "text": [
      "Empty List ::  []\n",
      "Empty List ::  []\n",
      "Empty List ::  []\n",
      "List of Integers ::  [5, 10, 15, 20, 25]\n",
      "List of Floats ::  [1.5, 3.0, 4.5, 6.0, 7.5]\n",
      "List of Strings ::  ['Apple', 'Oranges', 'Grapes', 'Banana', 'Mango']\n"
     ]
    }
   ],
   "source": [
    "#List of Integers,  float and strings\n",
    "\n",
    "list1 = [] #print Empty List\n",
    "list2 = [] #print Empty List\n",
    "list3 = [] #print Empty List\n",
    "\n",
    "print(\"Empty List :: \", list1)\n",
    "print(\"Empty List :: \", list2)\n",
    "print(\"Empty List :: \", list3)\n",
    "\n",
    "list1 = [5 , 10, 15, 20, 25] #Integer list\n",
    "list2 = [1.5, 3.0, 4.5, 6.0, 7.5] #Float List\n",
    "list3 = ['Apple', 'Oranges', \"Grapes\", \"Banana\", \"Mango\"] #Strings list\n",
    "\n",
    "print(\"List of Integers :: \", list1) #Output integers list\n",
    "print(\"List of Floats :: \", list2) #Output float list\n",
    "print('List of Strings :: ', list3) #Output String List, irrespective or single or double quote, the list will always display output in single quote"
   ]
  },
  {
   "cell_type": "code",
   "execution_count": 2,
   "metadata": {},
   "outputs": [
    {
     "name": "stdout",
     "output_type": "stream",
     "text": [
      "The new updated list1 is ::  [5, 10, 15, 20, 25, 30]\n",
      "The new updated list2 is ::  [1.5, 3.0, 4.5, 6.0, 7.5, 9.0]\n",
      "The new updated list3 is ::  ['Apple', 'Oranges', 'Grapes', 'Banana', 'Mango', 'Watermelon']\n"
     ]
    }
   ],
   "source": [
    "# Add items to the list, we can use the append() function\n",
    "\n",
    "list1.append(30)\n",
    "list2.append(9.0)\n",
    "list3.append(\"Watermelon\")\n",
    "\n",
    "print(\"The new updated list1 is :: \", list1)\n",
    "print(\"The new updated list2 is :: \", list2)\n",
    "print(\"The new updated list3 is :: \", list3)"
   ]
  },
  {
   "cell_type": "markdown",
   "metadata": {},
   "source": [
    "## Dictionaries\n",
    "\n",
    "* It is best to think of a dictionary as a set of key: value pairs, with the requirement that the keys are unique (within one dictionary).\n",
    "* A pair of braces creates an empty dictionary: {}. \n",
    "* Placing a comma-separated list of key:value pairs within the braces adds initial key:value pairs to the dictionary; this is also the way dictionaries are written on output."
   ]
  },
  {
   "cell_type": "code",
   "execution_count": 3,
   "metadata": {},
   "outputs": [
    {
     "name": "stdout",
     "output_type": "stream",
     "text": [
      "The empty Dictonary is ::  {}\n",
      "The empty Dictonary is ::  {}\n",
      "The empty Dictonary is ::  {}\n"
     ]
    }
   ],
   "source": [
    "dict1 = {} #Create an empty dictionary and name it as dict1\n",
    "dict2 = {} #Create an empty dictionary and name it as dict2\n",
    "dict3 = {} #Ceate an empty dictionary and name it as dict3\n",
    "\n",
    "print(\"The empty Dictonary is :: \", dict1)\n",
    "print(\"The empty Dictonary is :: \", dict2)\n",
    "print(\"The empty Dictonary is :: \", dict3)"
   ]
  },
  {
   "cell_type": "code",
   "execution_count": 4,
   "metadata": {},
   "outputs": [
    {
     "name": "stdout",
     "output_type": "stream",
     "text": [
      "Dictonary Fruit ::  {'Apple': 25, 'Oranges': 55, 'Grapes': 15, 'Banana': 35, 'Mango': 60}\n"
     ]
    }
   ],
   "source": [
    "#Let us try adding some values to the dctionary. \n",
    "#We have to uderstand this, the dictionary values can be added in the following format variable_name['variable_key'] = variable_value\n",
    "\n",
    "dict1['Apple'] = 25\n",
    "dict1['Oranges'] = 55\n",
    "dict1['Grapes'] = 15\n",
    "dict1['Banana'] = 35\n",
    "dict1['Mango'] = 60\n",
    "\n",
    "print(\"Dictonary Fruit :: \", dict1)"
   ]
  },
  {
   "cell_type": "code",
   "execution_count": 5,
   "metadata": {},
   "outputs": [
    {
     "name": "stdout",
     "output_type": "stream",
     "text": [
      "Dictonary Fruit ::  {'Apple2': 25, 'Oranges2': 35, 'Grapes2': 40, 'Banana2': 55, 'Mango2': 65}\n"
     ]
    }
   ],
   "source": [
    "#Create another dictionary with another set of values\n",
    "\n",
    "dict2['Apple2'] = 25 \n",
    "dict2['Oranges2'] = 35\n",
    "dict2['Grapes2'] = 40\n",
    "dict2['Banana2'] = 55\n",
    "dict2['Mango2'] = 65\n",
    "\n",
    "print(\"Dictonary Fruit :: \", dict2)"
   ]
  },
  {
   "cell_type": "code",
   "execution_count": 6,
   "metadata": {},
   "outputs": [
    {
     "name": "stdout",
     "output_type": "stream",
     "text": [
      "Dictonary Fruit of 3 dictionary ::  {'Apple3': 25, 'Oranges3': 35, 'Grapes': 45, 'Banana': 50, 'Mango': 60}\n"
     ]
    }
   ],
   "source": [
    "# Every Key value is unique in the dictionary. \n",
    "#if the kep value is repeated, we will end up with an new value while the previously saved will be lost.\n",
    "\n",
    "dict3['Apple3'] = 25\n",
    "dict3['Oranges3'] = 35\n",
    "dict3['Grapes'] = 45\n",
    "dict3['Banana'] = 55\n",
    "dict3['Mango'] = 65\n",
    "dict3['Mango'] = 60\n",
    "dict3['Banana'] = 50\n",
    "\n",
    "print(\"Dictonary Fruit of 3 dictionary :: \", dict3)"
   ]
  },
  {
   "cell_type": "code",
   "execution_count": 7,
   "metadata": {},
   "outputs": [
    {
     "name": "stdout",
     "output_type": "stream",
     "text": [
      "The Keysof the Dict1 is -  ['Apple', 'Oranges', 'Grapes', 'Banana', 'Mango']\n",
      "The Keysof the Dict2 is -  ['Apple2', 'Oranges2', 'Grapes2', 'Banana2', 'Mango2']\n"
     ]
    }
   ],
   "source": [
    "#We have a function list() to display output all the dictionary keys\n",
    "\n",
    "dict_keylist1 = list(dict1)\n",
    "dict_keylist2 = list(dict2)\n",
    "\n",
    "print(\"The Keysof the Dict1 is - \", dict_keylist1)\n",
    "print(\"The Keysof the Dict2 is - \", dict_keylist2)"
   ]
  },
  {
   "cell_type": "code",
   "execution_count": 8,
   "metadata": {},
   "outputs": [
    {
     "name": "stdout",
     "output_type": "stream",
     "text": [
      "dict_values([25, 55, 15, 35, 60])\n",
      "dict_values([25, 35, 40, 55, 65])\n"
     ]
    }
   ],
   "source": [
    "##We have a function dictname.values() to display output all the dictionary values\n",
    "\n",
    "dict_keyvalues1 = dict1.values() \n",
    "dict_keyvalues2 = dict2.values()\n",
    "\n",
    "print(dict_keyvalues1)\n",
    "print(dict_keyvalues2)"
   ]
  },
  {
   "cell_type": "code",
   "execution_count": 9,
   "metadata": {},
   "outputs": [
    {
     "name": "stdout",
     "output_type": "stream",
     "text": [
      "The requested values are  25 55 65 15\n"
     ]
    }
   ],
   "source": [
    "#Suppose we are requested to fetch the values of Apple, Banana2, Mango2, Grapes, we can do as follows\n",
    "\n",
    "print(\"The requested values are \", dict1['Apple'], dict2['Banana2'], dict2['Mango2'], dict1['Grapes'])\n",
    "\n",
    "#The print function can be used to used to output multiple values"
   ]
  },
  {
   "cell_type": "code",
   "execution_count": 10,
   "metadata": {},
   "outputs": [
    {
     "name": "stdout",
     "output_type": "stream",
     "text": [
      "The sorted keys are :  ['Apple', 'Banana', 'Grapes', 'Mango', 'Oranges']\n",
      "The sorted values are :  [15, 25, 35, 55, 60]\n"
     ]
    }
   ],
   "source": [
    "#We have another function in the dictionary to sort the values in an order\n",
    "\n",
    "sorted_dict1Keys = sorted(dict1) \n",
    "print(\"The sorted keys are : \", sorted_dict1Keys)\n",
    "\n",
    "sorted_dict1Values = sorted(dict1.values())\n",
    "print(\"The sorted values are : \", sorted_dict1Values)"
   ]
  },
  {
   "cell_type": "markdown",
   "metadata": {},
   "source": [
    "## Boolean DataTypes\n",
    "\n",
    "* Boolean DataTypes or simpy referred as Boolean used to confirm whether the values are present in the dictionaries. \n",
    "* If we are using large dataset and we need to verify whether the key is present in dictionaries, we use this. \n",
    "* To check, we use in or not in function."
   ]
  },
  {
   "cell_type": "code",
   "execution_count": 11,
   "metadata": {},
   "outputs": [
    {
     "name": "stdout",
     "output_type": "stream",
     "text": [
      "The output is :  False\n",
      "The output is :  True\n"
     ]
    }
   ],
   "source": [
    "#Check whether Banana2 is available not in dict1 and Grape available in dict2\n",
    "\n",
    "print(\"The output is : \",\"Banana2\"  in dict1)\n",
    "print(\"The output is : \" , \"Grapes\" not in dict2)\n",
    "\n",
    "#If we use simply as Banana2, we will get name error since the Banana2 is not a variable, but 'Banana2' is a defined variable."
   ]
  },
  {
   "cell_type": "markdown",
   "metadata": {},
   "source": [
    "## Tuples\n",
    "\n",
    "* A tuple is a collection which is ordered and unchangeable. \n",
    "* In Python tuples are written with round brackets or (). A tuple is a collection of variable which can be strings, float, integers"
   ]
  },
  {
   "cell_type": "code",
   "execution_count": 12,
   "metadata": {},
   "outputs": [
    {
     "name": "stdout",
     "output_type": "stream",
     "text": [
      "Display all the values of tup1 - ('Data Science', 100, 12.5)\n",
      "Display all the values of tup2 - ('Machine Learning', 'SQL', 'AI', 200, 150, 22.75, 99.99)\n"
     ]
    }
   ],
   "source": [
    "#Create a tuple with the name tup1 and tup2\n",
    "\n",
    "tup1 = ('Data Science', 100, 12.5)\n",
    "print(\"Display all the values of tup1 -\",tup1)\n",
    "\n",
    "tup2 = (\"Machine Learning\", 'SQL', 'AI', 200, 150, 22.75, 99.99)\n",
    "print(\"Display all the values of tup2 -\",tup2)"
   ]
  },
  {
   "cell_type": "code",
   "execution_count": 13,
   "metadata": {},
   "outputs": [
    {
     "name": "stdout",
     "output_type": "stream",
     "text": [
      "The values are 12.5 22.75 AI\n"
     ]
    }
   ],
   "source": [
    "#To fetch 3rd value of tup1, 5th value of tup2, 5th value from last of tup2\n",
    "\n",
    "#The assighned value of every python list, dictionary and tuple always start from 0 if we are moving from left to right and \n",
    "#always start -1 if we are moving from right to left\n",
    "\n",
    "print(\"The values are\", tup1[2], tup2[5], tup2[-5])"
   ]
  },
  {
   "cell_type": "markdown",
   "metadata": {},
   "source": [
    "## Some Extra predefined function we can do with strings, list, tuple and dictionaries\n",
    "\n",
    "1. In strings, we will learn the following today,\n",
    "\n",
    "a. concatenation using operators symbol such as + , *. We have so far learnt about the operator = and use it extensively.(Please refer above example).\n",
    "\n",
    "b. concatenation of two or more string literals. ( A literals is just a value assigned to the variable, if a = 10, a is the name of the variable, but 10 is the integer or int value assigned to the literals.)\n",
    "\n",
    "c. concatenation of variable and literals.\n",
    "\n",
    "d. Indexing of strings\n",
    "\n",
    "e. Slicing of strings\n",
    "\n",
    "f. Why Python strings are immutable?\n",
    "\n",
    "g. len() function in strings\n"
   ]
  },
  {
   "cell_type": "code",
   "execution_count": 14,
   "metadata": {},
   "outputs": [
    {
     "name": "stdout",
     "output_type": "stream",
     "text": [
      "The New String 1 is ::  ABCDEFGHumumum\n",
      "The New String 2 is ::  IJKLMNOPeheheheheh\n",
      "The New String 3 is ::  umumumABCDEFGH\n",
      "The New String 4 is ::  ehehehehehIJKLMNOP\n"
     ]
    }
   ],
   "source": [
    "# a. concatenation using operators symbol such as + , *. \n",
    "\n",
    "#Consider the following example\n",
    "\n",
    "str1 = \"ABCDEFGH\"\n",
    "str2 = \"IJKLMNOP\"\n",
    "\n",
    "#If we are asked to include 'um' 3 times to str1 and 'eh' 5 times to the str2, we can concatenate as follows\n",
    "\n",
    "str_new1 = str1 + 3 * 'um' #The values will be added at the end of the string\n",
    "str_new2 = str2 + 5 *'eh' #The values will be added at the end of the string\n",
    "\n",
    "str_new3 = 3 * 'um' + str1 #The values will be added at the beginning of the string\n",
    "str_new4 = 5 * 'eh' + str2 #The values will be added at the beginning of the string\n",
    "\n",
    "print('The New String 1 is :: ',str_new1)\n",
    "print('The New String 2 is :: ',str_new2)\n",
    "print('The New String 3 is :: ',str_new3)\n",
    "print('The New String 4 is :: ',str_new4)"
   ]
  },
  {
   "cell_type": "code",
   "execution_count": 15,
   "metadata": {},
   "outputs": [
    {
     "name": "stdout",
     "output_type": "stream",
     "text": [
      "New Strings are ::  Apple and Oranges\n"
     ]
    }
   ],
   "source": [
    "#b. concatenation of two or more string literals.\n",
    "#Consider the previous example str1 and str2\n",
    "\n",
    "str_new5 = 'Apple' ' and' ' Oranges'\n",
    "\n",
    "print('New Strings are :: ', str_new5)\n",
    "\n",
    "#You will see that, with multiple literals, a new value can be assigned to a variable name str_new5"
   ]
  },
  {
   "cell_type": "markdown",
   "metadata": {},
   "source": [
    "#c. concatenation of variable and literals.\n",
    "\n",
    "str_new6 = 'I have two oranges' + 2 \n",
    "print(str_new6)"
   ]
  },
  {
   "cell_type": "code",
   "execution_count": 16,
   "metadata": {},
   "outputs": [
    {
     "name": "stdout",
     "output_type": "stream",
     "text": [
      "ine day t\n",
      "utside !!\n",
      "ay to be outside \n",
      "o\n"
     ]
    }
   ],
   "source": [
    "# d.Indexing of strings - finding the information stored in the position of the string. In python, the values are stored like this.\n",
    "\n",
    "# +---+---+---+---+---+---+\n",
    "# | P | y | t | h | o | n |\n",
    "# +---+---+---+---+---+---+\n",
    "# 0   1   2   3   4   5   6\n",
    "#-6  -5  -4  -3  -2  -1\n",
    "\n",
    "\n",
    "# e.slicing of strings - A method of splitting a string \n",
    "\n",
    "#An example to slice a string with left to right\n",
    "str_new7 = \"A fine day to be outside !!\"\n",
    "\n",
    "print(str_new7[3 : 12]) \n",
    "# The value 3 is actually the position you wish to start slicing and the value 12 defines the 13th location the slicing should stop.\n",
    "# Slicing will help to obtain a part of the string, comonly referred as sub string.\n",
    "\n",
    "#An example to slice a string from right to left\n",
    "print(str_new7[-9 : ])\n",
    "#The value -9 is actualy 4th position from right to left,where the slicer will stop at  the 4th value. \n",
    "#Here a whitespace is considered as value. \n",
    "\n",
    "print(str_new7[8 : -2])\n",
    "# The value 8 will start splcing from 9th position and it will stop short of last 2 values present.\n",
    "\n",
    "\n",
    "#Indexing is limited to find only value of just the position the value holds.\n",
    "\n",
    "print(str_new7[12])"
   ]
  },
  {
   "cell_type": "markdown",
   "metadata": {},
   "source": [
    "### Immutable vs mutable objects"
   ]
  },
  {
   "cell_type": "code",
   "execution_count": 17,
   "metadata": {},
   "outputs": [
    {
     "name": "stdout",
     "output_type": "stream",
     "text": [
      "A fine day to be outside !!\n",
      "a\n"
     ]
    }
   ],
   "source": [
    "#Immutable - An object with a fixed value. Immutable objects include numbers, strings and tuples. \n",
    "#Such an object cannot be altered. A new object has to be created if a different value has to be stored. \n",
    "#They play an important role in places where a constant hash value is needed, for example as a key in a dictionary.\n",
    "\n",
    "print(str_new7)\n",
    "\n",
    "#suppose we index a string for 7th position\n",
    "print(str_new7[8])\n",
    "\n",
    "#The object value is a, suppose, wewish to replace the value with say b, \n",
    "#we do this as following and we end with this error, TypeError: 'str' object does not support item assignment\n",
    "#str_new7[8] = 'b'\n",
    "\n",
    "#To overcome this, a new string needs to created, hence the term immutabele, which means the string cannot be edited, altered.\n"
   ]
  },
  {
   "cell_type": "code",
   "execution_count": 18,
   "metadata": {},
   "outputs": [
    {
     "data": {
      "text/plain": [
       "27"
      ]
     },
     "execution_count": 18,
     "metadata": {},
     "output_type": "execute_result"
    }
   ],
   "source": [
    "#g. len() function in strings\n",
    "\n",
    "#Suppose, we wish to know, how many value is present in the str_new7, we use the len()\n",
    "\n",
    "len(str_new7)"
   ]
  },
  {
   "cell_type": "markdown",
   "metadata": {},
   "source": [
    "    2. In lists, we learn today the following\n",
    "\n",
    "a. Indexing of list and  slicing of list\n",
    "\n",
    "b. Shallow copy\n",
    "\n",
    "c. Concatenation of list\n",
    "\n",
    "d. append\n",
    "\n",
    "e. Example of mutability of list\n",
    "\n",
    "f. len()\n",
    "\n",
    "g. nesting in list\n"
   ]
  },
  {
   "cell_type": "code",
   "execution_count": 19,
   "metadata": {},
   "outputs": [
    {
     "name": "stdout",
     "output_type": "stream",
     "text": [
      "[5, 10, 15, 20, 25, 30]\n",
      "[1.5, 3.0, 4.5, 6.0, 7.5, 9.0]\n",
      "5 6.0\n",
      "[10, 15] [4.5, 6.0, 7.5]\n"
     ]
    }
   ],
   "source": [
    "#a. Indexing of list and  slicing of list. BY considering previous example.\n",
    "\n",
    "#Like Strings, list can also be indexed and sliced\n",
    "\n",
    "#Indexing\n",
    "\n",
    "print(list1)\n",
    "print(list2)\n",
    "\n",
    "print(list1[0] , list2[3])\n",
    "\n",
    "print(list1[1 : 3], list2[2 : 5])"
   ]
  },
  {
   "cell_type": "code",
   "execution_count": 20,
   "metadata": {},
   "outputs": [
    {
     "name": "stdout",
     "output_type": "stream",
     "text": [
      "[5, 10, 15, 20, 25, 30]\n",
      "[1.5, 3.0, 4.5, 6.0, 7.5, 9.0]\n",
      "[5, 10, 15, 20, 25, 30] [1.5, 3.0, 4.5, 6.0, 7.5, 9.0]\n"
     ]
    }
   ],
   "source": [
    "#b. shallow list - A method used to display the whole value in the list, using indexing and splicing\n",
    "print(list1)\n",
    "print(list2)\n",
    "\n",
    "print(list1[:], list2[:])"
   ]
  },
  {
   "cell_type": "code",
   "execution_count": 21,
   "metadata": {},
   "outputs": [
    {
     "name": "stdout",
     "output_type": "stream",
     "text": [
      "[5, 10, 15, 20, 25, 30]\n",
      "[1.5, 3.0, 4.5, 6.0, 7.5, 9.0]\n",
      "[5, 10, 15, 20, 25, 30, 30, 35, 40, 45, 50, 55]\n",
      "[1.5, 3.0, 4.5, 6.0, 7.5, 9.0, 9.0, 10.5, 12.0, 13.5, 15.0]\n",
      "[5, 10, 15, 20, 25, 30, 30, 35, 40, 45, 50, 55, 1.5, 3.0, 4.5, 6.0, 7.5, 9.0, 9.0, 10.5, 12.0, 13.5, 15.0]\n"
     ]
    }
   ],
   "source": [
    "#c. concatenation of list\n",
    "\n",
    "print(list1)\n",
    "print(list2) \n",
    "\n",
    "concat_listnew1 = list1 + [30,35,40,45,50,55]\n",
    "concat_listnew2 = list2 + [9.0, 10.5, 12.0, 13.5, 15.0]\n",
    "\n",
    "concat_newlist = concat_listnew1 + concat_listnew2\n",
    "\n",
    "print(concat_listnew1) #output of new list which shows concatenation\n",
    "print(concat_listnew2) \n",
    "print(concat_newlist)\n"
   ]
  },
  {
   "cell_type": "code",
   "execution_count": 22,
   "metadata": {},
   "outputs": [
    {
     "name": "stdout",
     "output_type": "stream",
     "text": [
      "[5, 10, 15, 20, 25, 30]\n",
      "[5, 10, 15, 20, 25, 30, 60]\n"
     ]
    }
   ],
   "source": [
    "#d. append()\n",
    "\n",
    "print(list1)\n",
    "\n",
    "list1.append(60) #We have added a new value to the list\n",
    "\n",
    "print(list1)"
   ]
  },
  {
   "cell_type": "code",
   "execution_count": 23,
   "metadata": {},
   "outputs": [
    {
     "name": "stdout",
     "output_type": "stream",
     "text": [
      "[5, 10, 15, 20, 25, 30, 60]\n",
      "[5, 10, 15, 20, 25, 30, 30]\n"
     ]
    }
   ],
   "source": [
    "#e. Mutability of list\n",
    "\n",
    "print(list1)\n",
    "\n",
    "#We notice that the list is in multiple of the list, so value 60 is incorrect, so we can change as follows\n",
    "\n",
    "list1[-1] = 30\n",
    "\n",
    "print(list1) #This will show that has a mutable property"
   ]
  },
  {
   "cell_type": "code",
   "execution_count": 24,
   "metadata": {},
   "outputs": [
    {
     "name": "stdout",
     "output_type": "stream",
     "text": [
      "7\n"
     ]
    },
    {
     "data": {
      "text/plain": [
       "7"
      ]
     },
     "execution_count": 24,
     "metadata": {},
     "output_type": "execute_result"
    }
   ],
   "source": [
    "# f. len() - To find the total number of value\n",
    "\n",
    "print(len(list1))\n",
    "\n",
    "len(list1)"
   ]
  },
  {
   "cell_type": "markdown",
   "metadata": {},
   "source": [
    "    3. In Dictionaries, we learn the following today,\n",
    "\n",
    "a. accessing the values using key in dictionaries,using various types\n",
    "    \n",
    "    variable_name = dictname['KEYNAME']\n",
    "    variable_name = dictname.get('keyname')\n",
    "\n",
    "b. Lenght of the dictionaries using len()\n",
    "\n",
    "c. Removing items from the dictionaries using pop() and popitem()\n",
    "\n",
    "    dictname.pop('keyname')\n",
    "    dictname.popitem('keyname')\n",
    "\n",
    "d. To delete the entire dictionary or just a value using the delete function, del()\n",
    "\n",
    "e. The clear function is another used to remove the entire dictionary from the python.\n",
    "\n",
    "f. To duplicate or replicate same dictionary, you can use copy() or in built method dict()\n"
   ]
  },
  {
   "cell_type": "code",
   "execution_count": 25,
   "metadata": {},
   "outputs": [
    {
     "name": "stdout",
     "output_type": "stream",
     "text": [
      "{}\n",
      "{'key1': 20, 'key2': 30, 'key3': 40, 'key4': 50, 'key5': 60}\n",
      "20\n",
      "60\n"
     ]
    }
   ],
   "source": [
    "#a. accessing the values using key in dictionaries,using various types\n",
    "#variable_name = dictname['KEYNAME']\n",
    "#variable_name = dictname.get('keyname')\n",
    "\n",
    "#Consider the following dictionaries\n",
    "\n",
    "dict_accessnew = {}\n",
    "print(dict_accessnew)\n",
    "\n",
    "#add some inputs\n",
    "\n",
    "dict_accessnew['key1'] = 20\n",
    "dict_accessnew['key2'] = 30\n",
    "dict_accessnew['key3'] = 40\n",
    "dict_accessnew['key4'] = 50\n",
    "dict_accessnew['key5'] = 60\n",
    "\n",
    "print(dict_accessnew)\n",
    "\n",
    "#fetch value of key1 using both the above mentioned method\n",
    "\n",
    "dict_accessnew1 = dict_accessnew['key1']\n",
    "print(dict_accessnew1)\n",
    "\n",
    "dict_accessnew2 = dict_accessnew.get('key5')\n",
    "print(dict_accessnew2)\n",
    "\n",
    "dict_accessnew['key3'] = 40"
   ]
  },
  {
   "cell_type": "code",
   "execution_count": 26,
   "metadata": {},
   "outputs": [
    {
     "name": "stdout",
     "output_type": "stream",
     "text": [
      "{'key1': 20, 'key2': 30, 'key4': 50, 'key5': 60}\n",
      "{'key1': 20, 'key2': 30, 'key4': 50, 'key5': 60, 'key6': 70, 'key7': 80}\n"
     ]
    }
   ],
   "source": [
    "#c. Removing items from the dictionaries using pop() and popitem()\n",
    "#dictname.pop('keyname')\n",
    "#dictname.popitem('keyname')\n",
    "\n",
    "#To pop or remove a specific value from the dictionaries using one of the key\n",
    "dict_accessnew.pop(\"key3\")\n",
    "\n",
    "print(dict_accessnew)\n",
    "\n",
    "#If by mistake, you added a incorrect value to wrong dictionaries and it is the most recent value you \n",
    "#have added, you can use popitem to remove this. In python 3.7 onwards, popitem() will just remove the last value.\n",
    "#Check the fllowing example\n",
    "\n",
    "dict_accessnew['key6'] = 70\n",
    "dict_accessnew['key7'] = 100\n",
    "dict_accessnew['key81'] = 90\n",
    "\n",
    "#Above two are incorrect with one incorrect value and one incorrect keyname. \n",
    "#For the incorrect value, we can simply create a new variable name with the updated value, \n",
    "#however, for incorrect keyname, you can use popitem since it is a last entered.\n",
    "\n",
    "dict_accessnew['key7'] = 80\n",
    "dict_accessnew.popitem()\n",
    "\n",
    "print(dict_accessnew)"
   ]
  },
  {
   "cell_type": "code",
   "execution_count": 27,
   "metadata": {},
   "outputs": [
    {
     "name": "stdout",
     "output_type": "stream",
     "text": [
      "{'Apple': 200, 'Banana': 300, 'Watermelon': 400, 'Ferrari': 500, 'Oranges': 600}\n",
      "{'Apple': 200, 'Banana': 300, 'Watermelon': 400, 'Oranges': 600}\n"
     ]
    }
   ],
   "source": [
    "#d. To delete the entire dictionary or just a value using the delete function, del()\n",
    "\n",
    "dict_accessdel = {}\n",
    "\n",
    "dict_accessdel['Apple'] = 200\n",
    "dict_accessdel['Banana'] = 300\n",
    "dict_accessdel['Watermelon'] = 400\n",
    "dict_accessdel['Ferrari'] = 500\n",
    "dict_accessdel['Oranges'] = 600\n",
    "\n",
    "print(dict_accessdel)\n",
    "\n",
    "#We can use del dictname['key'] to remove this\n",
    "\n",
    "del dict_accessdel['Ferrari']\n",
    "\n",
    "print(dict_accessdel)"
   ]
  },
  {
   "cell_type": "markdown",
   "metadata": {},
   "source": [
    "* #You can remove the entire dictionary from using the del command, we will receive an name errro since there will be no dictionary with th name.\n",
    "* #del dict_accessdel\n",
    "* #print(dict_accessdel)\n",
    "* #If we wish to remove all the key and tge values from the dictionary, we will use clear function.\n",
    "* #dict_accessdel.clear()\n",
    "* #print(dict_accessdel)"
   ]
  },
  {
   "cell_type": "code",
   "execution_count": 29,
   "metadata": {},
   "outputs": [
    {
     "name": "stdout",
     "output_type": "stream",
     "text": [
      "{'Apple': 200, 'Banana': 300, 'Watermelon': 400, 'Oranges': 600}\n",
      "{'Apple': 200, 'Banana': 300, 'Watermelon': 400, 'Oranges': 600}\n",
      "{'Apple': 200, 'Banana': 300, 'Watermelon': 400, 'Oranges': 600}\n"
     ]
    }
   ],
   "source": [
    "#f. To duplicate or replicate same dictionary, you can use copy() or in built method dict()\n",
    "\n",
    "#Using Copy function\n",
    "\n",
    "dict_accesscopy = dict_accessdel.copy()\n",
    "print(dict_accesscopy)\n",
    "print(dict_accessdel)\n",
    "\n",
    "#Using dict() method\n",
    "\n",
    "dict_accessnewdict = dict(dict_accessdel)\n",
    "print(dict_accessnewdict)"
   ]
  },
  {
   "cell_type": "code",
   "execution_count": 30,
   "metadata": {},
   "outputs": [
    {
     "name": "stdout",
     "output_type": "stream",
     "text": [
      "4\n"
     ]
    }
   ],
   "source": [
    "#Using len() to find the lenght of the dictionary\n",
    "\n",
    "print(len(dict_accessdel))"
   ]
  },
  {
   "cell_type": "markdown",
   "metadata": {},
   "source": [
    "    4. In tuple, we learn today\n",
    "\n",
    "a. Access Tuple Items\n",
    "\n",
    "b. Changing a tuple\n",
    "\n",
    "c. Deleting a Tuple\n",
    "\n",
    "d. Tuple Methods\n",
    "\n",
    "e. Advantages of Tuple over List"
   ]
  },
  {
   "cell_type": "code",
   "execution_count": 31,
   "metadata": {},
   "outputs": [
    {
     "name": "stdout",
     "output_type": "stream",
     "text": [
      "<class 'tuple'>\n",
      "()\n",
      "('BMW', 'FerrariAston Martin', 'Lambo', 'Ford', 'Nissan', 'TATA', 'MARUTI')\n",
      "MARUTI\n",
      "Lambo\n"
     ]
    }
   ],
   "source": [
    "#a. Access Tuple Items\n",
    "\n",
    "#An object can be access through tuples using the indexing. Please consider the following example\n",
    "\n",
    "tuple_accessnew = ()\n",
    "\n",
    "print(type(tuple_accessnew))\n",
    "\n",
    "print(tuple_accessnew)\n",
    "\n",
    "# Add some values to it. \n",
    "\n",
    "tuple_accessnew = ('BMW', 'Ferrari' 'Aston Martin', 'Lambo', 'Ford', 'Nissan', 'TATA', 'MARUTI')\n",
    "\n",
    "print(tuple_accessnew)\n",
    "\n",
    "#We can use indexing to get object value from the tuple\n",
    "\n",
    "print(tuple_accessnew[6])\n",
    "\n",
    "print(tuple_accessnew[-5])"
   ]
  },
  {
   "cell_type": "code",
   "execution_count": 32,
   "metadata": {},
   "outputs": [
    {
     "name": "stdout",
     "output_type": "stream",
     "text": [
      "('BMW', 'FerrariAston Martin', 'Lambo', 'Ford', 'Nissan', 'TATA', 'MARUTI')\n",
      "('Apple', 'Oranges', 10, 20)\n"
     ]
    }
   ],
   "source": [
    "#b. Changing a tuple\n",
    "\n",
    "#A well established fact by now is that the tuple is immutable, object values once entered cannot be edited out.  \n",
    "#You can either re-assighn this to a new value.\n",
    "\n",
    "print(tuple_accessnew) \n",
    "\n",
    "tuple_accessnew = ('Apple', 'Oranges', 10, 20)\n",
    "\n",
    "print(tuple_accessnew) #The previous values are dropped and new are picked up"
   ]
  },
  {
   "cell_type": "code",
   "execution_count": 33,
   "metadata": {},
   "outputs": [
    {
     "name": "stdout",
     "output_type": "stream",
     "text": [
      "('BMW', 'FerrariAston Martin', 'Lambo', 'Ford', 'Nissan', 'Ford', 'TATA', 'MARUTI')\n"
     ]
    }
   ],
   "source": [
    "#c. Deleting a Tuple\n",
    "\n",
    "tuple_accessnew1 = ('BMW', 'Ferrari' 'Aston Martin', 'Lambo', 'Ford', 'Nissan', 'Ford', 'TATA', 'MARUTI')\n",
    "\n",
    "print(tuple_accessnew1)\n",
    "\n",
    "#del tuple_accessnew1 #If you end up with name error once run, this means the tuple has been deleted.\n",
    "#print(tuple_accessnew1)\n"
   ]
  },
  {
   "cell_type": "code",
   "execution_count": 34,
   "metadata": {},
   "outputs": [
    {
     "name": "stdout",
     "output_type": "stream",
     "text": [
      "2\n",
      "3\n"
     ]
    }
   ],
   "source": [
    "#d. Tuple method, count() and index()\n",
    "\n",
    "print(tuple_accessnew1.count('Ford')) #Count number of times the object is present\n",
    "\n",
    "print(tuple_accessnew1.index('Ford'))"
   ]
  },
  {
   "cell_type": "markdown",
   "metadata": {},
   "source": [
    "##### e. Advantages of Tuple over List \n",
    "\n",
    "Since tuples are quite similar to lists, both of them are used in similar situations as well.\n",
    "\n",
    "However, there are certain advantages of implementing a tuple over a list. Below listed are some of the main advantages:\n",
    "\n",
    "We generally use tuple for heterogeneous (different) datatypes and list for homogeneous (similar) datatypes.\n",
    "Since tuples are immutable, iterating through tuple is faster than with list. So there is a slight performance boost.\n",
    "Tuples that contain immutable elements can be used as a key for a dictionary. With lists, this is not possible.\n",
    "If you have data that doesn't change, implementing it as tuple will guarantee that it remains write-protected."
   ]
  },
  {
   "cell_type": "markdown",
   "metadata": {},
   "source": [
    "#### MUTABLE vs IMMUTABLE\n",
    "\n",
    "Every variable in python holds an instance of an object. There are two types of objects in python i.e. Mutable and Immutable objects. Whenever an object is instantiated, it is assigned a unique object id. The type of the object is defined at the runtime and it can’t be changed afterwards. However, it’s state can be changed if it is a mutable object.\n",
    "\n",
    "To summarise the difference, mutable objects can change their state or contents and immutable objects can’t change their state or content.\n",
    "\n",
    "Immutable Objects : These are of in-built types like int, float, bool, string, unicode, tuple. In simple words, an immutable object can’t be changed after it is created.\n",
    "\n",
    "Mutable Objects : These are of type list, dict, set . Custom classes are generally mutable.\n",
    "\n",
    "\n",
    "\n",
    "Conclusion\n",
    "\n",
    "1. Mutable and immutable objects are handled differently in python. Immutable objects are quicker to access and are expensive to change because it involves the creation of a copy.\n",
    "Whereas mutable objects are easy to change.\n",
    "\n",
    "2. Use of mutable objects is recommended when there is a need to change the size or content of the object.\n",
    "Exception : However, there is an exception in immutability as well. We know that tuple in python is immutable. But the tuple consists of a sequence of names with unchangeable bindings to objects.\n",
    "Consider a tuple\n",
    " tup = ([3, 4, 5], 'myname') \n",
    "\n",
    "3. The tuple consists of a string and a list. Strings are immutable so we can’t change its value. But the contents of the list can change. The tuple itself isn’t mutable but contain items that are mutable.\n",
    "\n",
    "As a rule of thumb, Generally Primitive-like types are probably immutable and Customized Container-like types are mostly mutable.\n",
    "\n"
   ]
  },
  {
   "cell_type": "markdown",
   "metadata": {},
   "source": [
    "## DATE/TIME\n",
    "\n",
    "https://www.programiz.com/python-programming/datetime"
   ]
  },
  {
   "cell_type": "code",
   "execution_count": 41,
   "metadata": {},
   "outputs": [
    {
     "name": "stdout",
     "output_type": "stream",
     "text": [
      "2020-12-15 14:49:44.697459\n",
      "2020-12-15\n",
      "['MAXYEAR', 'MINYEAR', '__builtins__', '__cached__', '__doc__', '__file__', '__loader__', '__name__', '__package__', '__spec__', 'date', 'datetime', 'datetime_CAPI', 'sys', 'time', 'timedelta', 'timezone', 'tzinfo']\n"
     ]
    }
   ],
   "source": [
    "import datetime as dt\n",
    "\n",
    "print(dt.datetime.now()) # print current time\n",
    "print(dt.date.today())# print current date\n",
    "print(dir(dt)) # displays the datetime format\n"
   ]
  },
  {
   "cell_type": "code",
   "execution_count": 42,
   "metadata": {},
   "outputs": [
    {
     "name": "stdout",
     "output_type": "stream",
     "text": [
      "2020-12-15\n"
     ]
    }
   ],
   "source": [
    "# datetime.date Class\n",
    "\n",
    "import datetime\n",
    "\n",
    "print(datetime.date(2020,12, 15))"
   ]
  },
  {
   "cell_type": "code",
   "execution_count": 43,
   "metadata": {},
   "outputs": [
    {
     "name": "stdout",
     "output_type": "stream",
     "text": [
      "2020-12-12\n"
     ]
    }
   ],
   "source": [
    "#import only date from datetime\n",
    "\n",
    "from datetime import date\n",
    "\n",
    "print(date(2020,12, 12))"
   ]
  },
  {
   "cell_type": "code",
   "execution_count": 45,
   "metadata": {},
   "outputs": [
    {
     "name": "stdout",
     "output_type": "stream",
     "text": [
      "Current date is  2020-12-15\n"
     ]
    }
   ],
   "source": [
    "#get current date\n",
    "\n",
    "from datetime import date\n",
    "print(\"Current date is \", (date.today()))"
   ]
  },
  {
   "cell_type": "code",
   "execution_count": 46,
   "metadata": {},
   "outputs": [
    {
     "name": "stdout",
     "output_type": "stream",
     "text": [
      "Date is  2012-01-11\n"
     ]
    }
   ],
   "source": [
    "#get date from timestamp\n",
    "\n",
    "from datetime import date\n",
    "\n",
    "print(\"Date is \",(date.fromtimestamp(1326244364)))"
   ]
  },
  {
   "cell_type": "code",
   "execution_count": 47,
   "metadata": {},
   "outputs": [
    {
     "name": "stdout",
     "output_type": "stream",
     "text": [
      "Current year: 2020\n",
      "Current month: 12\n",
      "Current day: 15\n"
     ]
    }
   ],
   "source": [
    "#print today's year, month, day\n",
    "\n",
    "from datetime import date\n",
    "\n",
    "# date object of today's date\n",
    "today = date.today() \n",
    "\n",
    "print(\"Current year:\", today.year)\n",
    "print(\"Current month:\", today.month)\n",
    "print(\"Current day:\", today.day)"
   ]
  },
  {
   "cell_type": "code",
   "execution_count": 48,
   "metadata": {},
   "outputs": [
    {
     "name": "stdout",
     "output_type": "stream",
     "text": [
      "a = 00:00:00\n",
      "b = 11:34:56\n",
      "c = 11:34:56\n",
      "d = 11:34:56.234566\n"
     ]
    }
   ],
   "source": [
    "#time object to  represent time\n",
    "\n",
    "from datetime import time\n",
    "\n",
    "# time(hour = 0, minute = 0, second = 0)\n",
    "a = time()\n",
    "print(\"a =\", a)\n",
    "\n",
    "# time(hour, minute and second)\n",
    "b = time(11, 34, 56)\n",
    "print(\"b =\", b)\n",
    "\n",
    "# time(hour, minute and second)\n",
    "c = time(hour = 11, minute = 34, second = 56)\n",
    "print(\"c =\", c)\n",
    "\n",
    "# time(hour, minute, second, microsecond)\n",
    "d = time(11, 34, 56, 234566)\n",
    "print(\"d =\", d)"
   ]
  },
  {
   "cell_type": "code",
   "execution_count": 49,
   "metadata": {},
   "outputs": [
    {
     "name": "stdout",
     "output_type": "stream",
     "text": [
      "hour = 11\n",
      "minute = 34\n",
      "second = 56\n",
      "microsecond = 0\n"
     ]
    }
   ],
   "source": [
    "#print hour, minute, second, microsecond\n",
    "\n",
    "from datetime import time\n",
    "\n",
    "a = time(11, 34, 56)\n",
    "\n",
    "print(\"hour =\", a.hour)\n",
    "print(\"minute =\", a.minute)\n",
    "print(\"second =\", a.second)\n",
    "print(\"microsecond =\", a.microsecond)\n"
   ]
  },
  {
   "cell_type": "code",
   "execution_count": 50,
   "metadata": {},
   "outputs": [
    {
     "name": "stdout",
     "output_type": "stream",
     "text": [
      "2018-11-28 00:00:00\n",
      "2017-11-28 23:55:59.342380\n"
     ]
    }
   ],
   "source": [
    "#datetime module has datetime class\n",
    "\n",
    "\n",
    "from datetime import datetime\n",
    "\n",
    "#datetime(year, month, day)\n",
    "a = datetime(2018, 11, 28)\n",
    "print(a)\n",
    "\n",
    "# datetime(year, month, day, hour, minute, second, microsecond)\n",
    "b = datetime(2017, 11, 28, 23, 55, 59, 342380)\n",
    "print(b)"
   ]
  },
  {
   "cell_type": "code",
   "execution_count": 51,
   "metadata": {},
   "outputs": [
    {
     "name": "stdout",
     "output_type": "stream",
     "text": [
      "year = 2017\n",
      "month = 11\n",
      "hour = 23\n",
      "minute = 55\n",
      "timestamp = 1511893559.34238\n"
     ]
    }
   ],
   "source": [
    "# year, month, hour, minute, timestamp\n",
    "\n",
    "from datetime import datetime\n",
    "\n",
    "a = datetime(2017, 11, 28, 23, 55, 59, 342380)\n",
    "print(\"year =\", a.year)\n",
    "print(\"month =\", a.month)\n",
    "print(\"hour =\", a.hour)\n",
    "print(\"minute =\", a.minute)\n",
    "print(\"timestamp =\", a.timestamp())"
   ]
  },
  {
   "cell_type": "code",
   "execution_count": 52,
   "metadata": {},
   "outputs": [
    {
     "name": "stdout",
     "output_type": "stream",
     "text": [
      "t3 = 201 days, 0:00:00\n",
      "t6 = -333 days, 1:14:20\n",
      "type of t3 = <class 'datetime.timedelta'>\n",
      "type of t6 = <class 'datetime.timedelta'>\n"
     ]
    }
   ],
   "source": [
    "#timedelta object represents the difference between two dates or times.\n",
    "\n",
    "\n",
    "from datetime import datetime, date\n",
    "\n",
    "t1 = date(year = 2018, month = 7, day = 12)\n",
    "t2 = date(year = 2017, month = 12, day = 23)\n",
    "t3 = t1 - t2\n",
    "print(\"t3 =\", t3)\n",
    "\n",
    "t4 = datetime(year = 2018, month = 7, day = 12, hour = 7, minute = 9, second = 33)\n",
    "t5 = datetime(year = 2019, month = 6, day = 10, hour = 5, minute = 55, second = 13)\n",
    "t6 = t4 - t5\n",
    "print(\"t6 =\", t6)\n",
    "\n",
    "print(\"type of t3 =\", type(t3)) \n",
    "print(\"type of t6 =\", type(t6))  "
   ]
  },
  {
   "cell_type": "code",
   "execution_count": 53,
   "metadata": {},
   "outputs": [
    {
     "name": "stdout",
     "output_type": "stream",
     "text": [
      "t3 = 14 days, 13:55:39\n"
     ]
    }
   ],
   "source": [
    "#difference between two timedelta\n",
    "\n",
    "from datetime import timedelta\n",
    "\n",
    "t1 = timedelta(weeks = 2, days = 5, hours = 1, seconds = 33)\n",
    "t2 = timedelta(days = 4, hours = 11, minutes = 4, seconds = 54)\n",
    "t3 = t1 - t2\n",
    "\n",
    "print(\"t3 =\", t3)"
   ]
  },
  {
   "cell_type": "code",
   "execution_count": 56,
   "metadata": {},
   "outputs": [
    {
     "name": "stdout",
     "output_type": "stream",
     "text": [
      "total seconds = 435633.233423\n"
     ]
    }
   ],
   "source": [
    "#time in seconds\n",
    "\n",
    "from datetime import timedelta\n",
    "\n",
    "t = timedelta(days = 5, hours = 1, seconds = 33, microseconds = 233423)\n",
    "print(\"total seconds =\", t.total_seconds())"
   ]
  },
  {
   "cell_type": "code",
   "execution_count": 57,
   "metadata": {},
   "outputs": [
    {
     "name": "stdout",
     "output_type": "stream",
     "text": [
      "time: 15:05:16\n",
      "s1: 12/15/2020, 15:05:16\n",
      "s2: 15/12/2020, 15:05:16\n"
     ]
    }
   ],
   "source": [
    "#strftime - datetime object to string\n",
    "\n",
    "from datetime import datetime\n",
    "\n",
    "# current date and time\n",
    "now = datetime.now()\n",
    "\n",
    "t = now.strftime(\"%H:%M:%S\")\n",
    "print(\"time:\", t)\n",
    "\n",
    "s1 = now.strftime(\"%m/%d/%Y, %H:%M:%S\")\n",
    "# mm/dd/YY H:M:S format\n",
    "print(\"s1:\", s1)\n",
    "\n",
    "s2 = now.strftime(\"%d/%m/%Y, %H:%M:%S\")\n",
    "# dd/mm/YY H:M:S format\n",
    "print(\"s2:\", s2)"
   ]
  },
  {
   "cell_type": "markdown",
   "metadata": {},
   "source": [
    "    Here, %Y, %m, %d, %H etc. are format codes. The strftime() method takes one or more format codes and returns a formatted string based on it.\n",
    "\n",
    "    In the above program, t, s1 and s2 are strings.\n",
    "\n",
    "    * %Y - year [0001,..., 2018, 2019,..., 9999]\n",
    "    * %m - month [01, 02, ..., 11, 12]\n",
    "    * %d - day [01, 02, ..., 30, 31]\n",
    "    * %H - hour [00, 01, ..., 22, 23\n",
    "    * %M - minute [00, 01, ..., 58, 59]\n",
    "    * %S - second [00, 01, ..., 58, 59]"
   ]
  },
  {
   "cell_type": "code",
   "execution_count": 58,
   "metadata": {},
   "outputs": [
    {
     "name": "stdout",
     "output_type": "stream",
     "text": [
      "date_string = 21 June, 2018\n",
      "date_object = 2018-06-21 00:00:00\n"
     ]
    }
   ],
   "source": [
    "#strptime = string to datetime\n",
    "\n",
    "from datetime import datetime\n",
    "\n",
    "date_string = \"21 June, 2018\"\n",
    "print(\"date_string =\", date_string)\n",
    "\n",
    "date_object = datetime.strptime(date_string, \"%d %B, %Y\")\n",
    "print(\"date_object =\", date_object)"
   ]
  },
  {
   "cell_type": "markdown",
   "metadata": {},
   "source": [
    "* The strptime() method takes two arguments:\n",
    "\n",
    "    1. a string representing date and time\n",
    "    2. format code equivalent to the first argument\n",
    "    \n",
    "* By the way, %d, %B and %Y format codes are used for day, month(full name) and year respectively."
   ]
  },
  {
   "cell_type": "code",
   "execution_count": 59,
   "metadata": {},
   "outputs": [
    {
     "name": "stdout",
     "output_type": "stream",
     "text": [
      "Local: 12/15/2020, 15:09:12\n",
      "NY: 12/15/2020, 04:39:17\n",
      "London: 12/15/2020, 09:39:17\n"
     ]
    }
   ],
   "source": [
    "#timezone using pytz\n",
    "\n",
    "from datetime import datetime\n",
    "import pytz\n",
    "\n",
    "local = datetime.now()\n",
    "print(\"Local:\", local.strftime(\"%m/%d/%Y, %H:%M:%S\"))\n",
    "\n",
    "\n",
    "tz_NY = pytz.timezone('America/New_York') \n",
    "datetime_NY = datetime.now(tz_NY)\n",
    "print(\"NY:\", datetime_NY.strftime(\"%m/%d/%Y, %H:%M:%S\"))\n",
    "\n",
    "tz_London = pytz.timezone('Europe/London')\n",
    "datetime_London = datetime.now(tz_London)\n",
    "print(\"London:\", datetime_London.strftime(\"%m/%d/%Y, %H:%M:%S\"))"
   ]
  },
  {
   "cell_type": "code",
   "execution_count": null,
   "metadata": {},
   "outputs": [],
   "source": []
  }
 ],
 "metadata": {
  "kernelspec": {
   "display_name": "Python 3",
   "language": "python",
   "name": "python3"
  },
  "language_info": {
   "codemirror_mode": {
    "name": "ipython",
    "version": 3
   },
   "file_extension": ".py",
   "mimetype": "text/x-python",
   "name": "python",
   "nbconvert_exporter": "python",
   "pygments_lexer": "ipython3",
   "version": "3.7.4"
  }
 },
 "nbformat": 4,
 "nbformat_minor": 2
}
