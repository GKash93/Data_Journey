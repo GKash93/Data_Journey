{
 "cells": [
  {
   "cell_type": "markdown",
   "metadata": {},
   "source": [
    "##### Now that we have a good handle on the Primitive Variables(int, float, strings). Let us move ahead to the conditional and loops in python, a must learn."
   ]
  },
  {
   "cell_type": "markdown",
   "metadata": {},
   "source": [
    "### Conditional Statement: if and else\n",
    "\n",
    "* if and else are part of the control statement in the python and they are conditional because, it helps to ease the coding while handling large volume dataset."
   ]
  },
  {
   "cell_type": "code",
   "execution_count": 3,
   "metadata": {},
   "outputs": [
    {
     "name": "stdout",
     "output_type": "stream",
     "text": [
      "Please enter the value : 5\n",
      "Please enter the value : 25\n",
      "The subtraction and Division value are ::  20 5\n",
      "Please enter the value : 23\n",
      "Please enter the value : 698\n",
      "The Addition and Multiplication are ::  721 16054\n"
     ]
    }
   ],
   "source": [
    "#if statment\n",
    "\n",
    "#One of the mostly used conditional statemnt is if statement. \n",
    "#If a program flow have a condition that needs to be checked, the if stateent will help us.\n",
    "# Consider the following example, there is a value a and b, we need to see if it is suitable for arithemetic operations. \n",
    "#However the condition is it is eligible for subtraction and division if a < b. Let us see how this works\n",
    "\n",
    "a = int(input(\"Please enter the value : \"))\n",
    "b = int(input(\"Please enter the value : \"))\n",
    "\n",
    "if b > a:\n",
    "    c = b - a\n",
    "    d = int(b / a)\n",
    "\n",
    "    \n",
    "print(\"The subtraction and Division value are :: \", c, d)\n",
    "\n",
    "#We can perform addition as well. \n",
    "\n",
    "p = int(input(\"Please enter the value : \"))\n",
    "q = int(input(\"Please enter the value : \"))\n",
    "\n",
    "r = p + q\n",
    "s = p * q\n",
    "\n",
    "print(\"The Addition and Multiplication are :: \", r, s)"
   ]
  },
  {
   "cell_type": "code",
   "execution_count": 4,
   "metadata": {},
   "outputs": [
    {
     "name": "stdout",
     "output_type": "stream",
     "text": [
      "Please enter the value : 25\n",
      "Please enter the value : 35\n",
      "The subtraction and Division value are ::  10 1.4\n"
     ]
    }
   ],
   "source": [
    "# Let us see what would happen if we use else conditional statement for above example but for one set of values a and b\n",
    "\n",
    "a = int(input(\"Please enter the value : \"))\n",
    "b = int(input(\"Please enter the value : \"))\n",
    "\n",
    "if a > b: \n",
    "    add = a + b\n",
    "    multiply = a * b\n",
    "    print(\"The Addition and Multiplication are :: \", add, multiply)\n",
    "\n",
    "else: \n",
    "    subtract = b - a \n",
    "    divide = b / a \n",
    "    print(\"The subtraction and Division value are :: \", subtract, divide)\n",
    "\n"
   ]
  },
  {
   "cell_type": "markdown",
   "metadata": {},
   "source": [
    "### Conditional Statement: if, elif, else"
   ]
  },
  {
   "cell_type": "code",
   "execution_count": 5,
   "metadata": {},
   "outputs": [
    {
     "name": "stdout",
     "output_type": "stream",
     "text": [
      "Please enter a value 5\n",
      "You have done a good job\n",
      "This work is acceptable as a trial\n"
     ]
    }
   ],
   "source": [
    "# From the above example it is evident that if and if else is only benefitting for single condition and double condition respectively.\n",
    "# What if we come across where we have multiple condition , we use elif\n",
    "\n",
    "#Let us check if the given value is greater than, lesser than or equal to 0. \n",
    "\n",
    "a = int(input(\"Please enter a value \"))\n",
    "    \n",
    "if a < 0:\n",
    "    a = 0\n",
    "    print(\"The value entered is less than zero, so not accepted\")\n",
    "elif a == 0:\n",
    "    print(\"The entered value is same as zero, this is not accepted\")\n",
    "elif a == 1:\n",
    "    print(\"The value entered is correct.\")\n",
    "else: \n",
    "    print(\"You have done a good job\")\n",
    "    \n",
    "print(\"This work is acceptable as a trial\")\n"
   ]
  },
  {
   "cell_type": "markdown",
   "metadata": {},
   "source": [
    "## loop statement: while loops or while"
   ]
  },
  {
   "cell_type": "markdown",
   "metadata": {},
   "source": [
    "* The logical statement if, elif, else only works when there is a condition to fulfil, however, if we need an infinte loop we use while conditional statement, because while will only work if the statement is true.\n",
    "* Consider the below example which will use while conditional statement to check the increment of number ie series\n",
    "* Increment means in a loop, the value is added until the maimum value is set"
   ]
  },
  {
   "cell_type": "code",
   "execution_count": 6,
   "metadata": {},
   "outputs": [
    {
     "name": "stdout",
     "output_type": "stream",
     "text": [
      "1\n",
      "2\n",
      "3\n",
      "4\n",
      "5\n",
      "6\n",
      "7\n",
      "8\n",
      "9\n",
      "10\n",
      "11\n",
      "12\n",
      "13\n",
      "14\n",
      "15\n"
     ]
    }
   ],
   "source": [
    "# A simple while loop code\n",
    "\n",
    "#Print i as long as i is less than 15:\n",
    "\n",
    "i = 1  #We specify the while condition to start at 1, if we mention 0, the condition for to print the value of i starts with 0\n",
    "\n",
    "while i <= 15:\n",
    "    print(i)\n",
    "    i += 1\n",
    "\n",
    "# This is how the while works, Since the i = 1 i <  15, it will print the value of 1, \n",
    "#  since we are incrementing it by count of 1, it will be 2, Now i = 2, i < 15, \n",
    "#  so it will print the value of 2 and it will go on till it reaches 15, since the condtion is set as i <= 15, it will print 15, \n",
    "#  it will check the value is 16, since 16 <= 15, the while loop will stop at 15."
   ]
  },
  {
   "cell_type": "markdown",
   "metadata": {},
   "source": [
    "#### Loop control statement, break, continue and pass"
   ]
  },
  {
   "cell_type": "markdown",
   "metadata": {},
   "source": [
    "### break: \n",
    "* Terminates the loop statement and transfers execution to the statement immediately following the loop.\n",
    "* If the interpreter encounters the break control statement, it will break away from the loop execution and executes the code following the loop."
   ]
  },
  {
   "cell_type": "code",
   "execution_count": 7,
   "metadata": {},
   "outputs": [
    {
     "name": "stdout",
     "output_type": "stream",
     "text": [
      "1\n",
      "2\n",
      "3\n",
      "4\n",
      "5\n",
      "6\n",
      "7\n",
      "8\n",
      "9\n",
      "10\n"
     ]
    }
   ],
   "source": [
    "#Take the above example, supose, we wish to stop the above value if the value is at 10\n",
    "\n",
    "i = 1  #We specify the while condition to start at 1, if we mention 0, the condition for to print the value of i starts with 0\n",
    "\n",
    "while i <= 15:\n",
    "    print(i)\n",
    "    \n",
    "    #If we use i = 10, we will be telling the compiler to assighn the value of i = 10 \n",
    "                #and mid running will cause this an error, so we use i == 10. Once the value reached i <= 10, it will break out.\n",
    "    if i == 10:\n",
    "        break\n",
    "    i += 1\n",
    "    \n",
    "# Why do we use break, all while loops, yes, consider this as a loop, may have a else clause, to avoid this, we use break. "
   ]
  },
  {
   "cell_type": "markdown",
   "metadata": {},
   "source": [
    "# continue: \n",
    "* It returns the control to the beginning of the while loop.. The continue statement rejects all the remaining statements in the current iteration of the loop and moves the control back to the top of the loop.\n",
    "* The continue statement can be used in both while and for loops"
   ]
  },
  {
   "cell_type": "markdown",
   "metadata": {},
   "source": [
    "#Take the above example, supose, we wish to continue the above value if the value is at 10\n",
    "\n",
    "i = 1\n",
    "\n",
    "while i<=15:\n",
    "    if i == 10:\n",
    "        continue        \n",
    "    i += 1\n",
    "    print(i)"
   ]
  },
  {
   "cell_type": "markdown",
   "metadata": {},
   "source": [
    "### pass:\n",
    "\n",
    "* It is used when a statement is required syntactically but you do not want any command or code to execute.\n",
    "* The pass statement is a null operation; nothing happens when it executes. The pass is also useful in places where your       code will eventually go, but has not been written yet (e.g., in stubs for example) −"
   ]
  },
  {
   "cell_type": "code",
   "execution_count": 2,
   "metadata": {},
   "outputs": [
    {
     "name": "stdout",
     "output_type": "stream",
     "text": [
      "1\n",
      "2\n",
      "3\n",
      "4\n",
      "5\n",
      "6\n",
      "7\n",
      "8\n",
      "9\n",
      "10\n",
      "pass has been activated\n",
      "11\n",
      "12\n",
      "13\n",
      "14\n",
      "15\n"
     ]
    }
   ],
   "source": [
    "i = 1\n",
    "\n",
    "while i<=15:\n",
    "    print(i)\n",
    "    \n",
    "    if i == 10:\n",
    "        pass\n",
    "        print(\"pass has been activated\")\n",
    "    i += 1"
   ]
  },
  {
   "cell_type": "markdown",
   "metadata": {},
   "source": [
    "## loop statement: for loops or for\n",
    "\n",
    "* If a sequence contains an expression list, it is evaluated first. \n",
    "* Then, the first item in the sequence is assigned to the iterating variable iterating_var. \n",
    "* Next, the statements block is executed. \n",
    "* Each item in the list is assigned to iterating_var, and the statement(s) block is executed until the entire sequence is exhausted."
   ]
  },
  {
   "cell_type": "code",
   "execution_count": 4,
   "metadata": {},
   "outputs": [
    {
     "name": "stdout",
     "output_type": "stream",
     "text": [
      "Set a lower limit 25\n",
      "Set a higher limit 35\n",
      "Prime numbers between 25 and 35 are: \n",
      "29\n",
      "31\n"
     ]
    }
   ],
   "source": [
    "#Python Program to Print all Prime Numbers in an Interval\n",
    "\n",
    "lower = int(input(\"Set a lower limit \"))\n",
    "upper = int(input(\"Set a higher limit \"))\n",
    "\n",
    "print(\"Prime numbers between\", lower, \"and\", upper, \"are: \")\n",
    "\n",
    "for number in range(lower, upper + 1):\n",
    "    if number > 1:\n",
    "        for i in range(2, number):\n",
    "            if (number % i) == 0:\n",
    "                break\n",
    "        else:\n",
    "            print(number)\n",
    "        "
   ]
  },
  {
   "cell_type": "code",
   "execution_count": 1,
   "metadata": {},
   "outputs": [
    {
     "name": "stdout",
     "output_type": "stream",
     "text": [
      "1 : WithDraw Cash\n",
      "2 : Check Balance\n",
      "3 : Run again\n",
      "Enter 1 or 2 or 3 :: 3\n",
      "\n",
      "Please try again \n",
      "\n",
      "1 : WithDraw Cash\n",
      "2 : Check Balance\n",
      "3 : Run again\n",
      "Enter 1 or 2 or 3 :: 2\n",
      "\n",
      "You have lot of money \n",
      "\n",
      "1 : WithDraw Cash\n",
      "2 : Check Balance\n",
      "3 : Run again\n",
      "Enter 1 or 2 or 3 :: 4\n"
     ]
    }
   ],
   "source": [
    "#A program to run a very basic ATM simulation\n",
    "\n",
    "#  error_encountered = False\n",
    "#  no_error_encountered = True\n",
    "\n",
    "no_error = True\n",
    "\n",
    "while(no_error):\n",
    "    print(\"1 : WithDraw Cash\")\n",
    "    print(\"2 : Check Balance\")\n",
    "    print(\"3 : Run again\")\n",
    "    \n",
    "    user_choice = input(\"Enter 1 or 2 or 3 :: \")\n",
    "    \n",
    "    if(user_choice == '1'): \n",
    "        print(\"\\nPlease withdraw Cash \\n\")\n",
    "        \n",
    "    elif(user_choice == '2'):\n",
    "        print(\"\\nYou have lot of money \\n\")\n",
    "        \n",
    "    elif(user_choice == '3'):\n",
    "        print(\"\\nPlease try again \\n\")\n",
    "        \n",
    "    else:\n",
    "        break\n",
    "    "
   ]
  },
  {
   "cell_type": "code",
   "execution_count": null,
   "metadata": {},
   "outputs": [],
   "source": []
  }
 ],
 "metadata": {
  "kernelspec": {
   "display_name": "Python 3",
   "language": "python",
   "name": "python3"
  },
  "language_info": {
   "codemirror_mode": {
    "name": "ipython",
    "version": 3
   },
   "file_extension": ".py",
   "mimetype": "text/x-python",
   "name": "python",
   "nbconvert_exporter": "python",
   "pygments_lexer": "ipython3",
   "version": "3.7.4"
  }
 },
 "nbformat": 4,
 "nbformat_minor": 2
}
