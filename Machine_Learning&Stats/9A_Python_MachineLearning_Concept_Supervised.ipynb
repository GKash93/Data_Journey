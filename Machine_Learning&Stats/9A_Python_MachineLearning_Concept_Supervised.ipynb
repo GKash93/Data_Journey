{
 "cells": [
  {
   "cell_type": "markdown",
   "metadata": {},
   "source": [
    "##### Before we proceed, Let us first understand what is Machine Learning, What is Data Science and What are the types of ML available today and types of algorithm avaialble for us to use.\n",
    "\n",
    "\n",
    "Machine Learning is a field within the broader study concept of Artificial Intelligence. Machine Learning used previously collected data and predict what the same will be in future. This has leads to new field like Computer vision, Natural Language processing, Deep Learning which along with computer vision is being used to automated driving, and so on.\n",
    "\n",
    "\n",
    "Data Science is a study of all the above. We will use advanced calculus, mathematics and so on to understand how data works and how data can be leveraged to predict the outcome. \n",
    "\n",
    "Currently we have many types of Machine Learning existing and more being added every day. As of 2020 and 2021, we have 14 types of Machine Learning(ML) in field. \n",
    "\n",
    "https://machinelearningmastery.com/types-of-learning-in-machine-learning/ \n",
    "\n",
    "Today, in this short course, we will focus mainly on Learning problem curve \n",
    "\n",
    "    * Supervised ML\n",
    "    * Un-Supervised ML\n",
    "    * Reinforcement Learning\n",
    "    \n",
    "And each has sub sections which is far more intresting.\n",
    "\n",
    "* Supervised ML\n",
    "    * Regression - Linear Regression, Polynomial Regression, Random Forest Regression, Decision Tree Regression, Support Vector Regression.\n",
    "    \n",
    "    * Classification - Logistic Regression, K-Nearest Neighbour(K-NN / KNN), Support Vector Machines, Naive Bayes, Kernel SVM, Decision Tree Classification, Random Forest Classification.\n",
    "    \n",
    "    \n",
    "* UnSupervised ML\n",
    "    * Clustering - K-Means, Hierarchial Clustering, Principal Component Analysis(PCA)\n",
    "    \n",
    "    * Association Rule Learning - Apriori, Eclat, F-P growth Algorithm\n",
    "                \n",
    "* Reinforcement Learning\n",
    "    * Upper Confidence Bound\n",
    "    * Thompson Sampling"
   ]
  },
  {
   "cell_type": "markdown",
   "metadata": {},
   "source": [
    "    "
   ]
  },
  {
   "cell_type": "markdown",
   "metadata": {},
   "source": [
    "    "
   ]
  },
  {
   "cell_type": "markdown",
   "metadata": {},
   "source": [
    "#                                Supervised Machine Learning"
   ]
  },
  {
   "cell_type": "markdown",
   "metadata": {},
   "source": [
    "* Supervised learning is the types of machine learning in which machines are trained using well \"labelled\" training data, and on basis of that data, machines predict the output. The labelled data means some input data is already tagged with the correct output.\n",
    "\n",
    "* Supervised learning is a process of providing input data as well as correct output data to the machine learning model. The aim of a supervised learning algorithm is to find a mapping function to map the input variable(x) with the output variable(y).\n",
    "\n",
    "* In the real-world, supervised learning can be used for Risk Assessment, Image classification, Fraud Detection, spam filtering, etc.\n",
    "\n",
    "See the image below\n",
    "\n",
    "![](images/super1.png)\n",
    "\n",
    "\n",
    "Labelled data and Label data are fed into the model training(ML algorith are used here) and then test data are used in prediction whether the data matches the desired output. If not, model is retrained until a correct prediction is acheieved. "
   ]
  },
  {
   "cell_type": "markdown",
   "metadata": {},
   "source": [
    "### Steps Involved in Supervised Learning:\n",
    "\n",
    "    * First Determine the type of training dataset\n",
    "    * Collect/Gather the labelled training data.\n",
    "    * Split the training dataset into training dataset, test dataset, and validation dataset.\n",
    "    * Determine the input features of the training dataset, which should have enough knowledge so that the model can accurately predict the output.\n",
    "    * Determine the suitable algorithm for the model, such as support vector machine, decision tree, etc.\n",
    "    * Execute the algorithm on the training dataset. Sometimes we need validation sets as the control parameters, which are the subset of training datasets.\n",
    "    * Evaluate the accuracy of the model by providing the test set. If the model predicts the correct output, which means our model is accurate."
   ]
  },
  {
   "cell_type": "markdown",
   "metadata": {},
   "source": [
    "### Advantages of Supervised learning:\n",
    "\n",
    "    * With the help of supervised learning, the model can predict the output on the basis of prior experiences.\n",
    "    * In supervised learning, we can have an exact idea about the classes of objects.\n",
    "    * Supervised learning model helps us to solve various real-world problems such as fraud detection, spam filtering, etc.\n",
    "\n",
    "\n",
    "### Disadvantages of supervised learning:\n",
    "\n",
    "    * Supervised learning models are not suitable for handling the complex tasks.\n",
    "    * Supervised learning cannot predict the correct output if the test data is different from the training dataset.\n",
    "    * Training required lots of computation times.\n",
    "    * In supervised learning, we need enough knowledge about the classes of object.\n",
    "    \n",
    "    \n",
    "Credits - https://www.javatpoint.com/supervised-machine-learning for this wonderful explaination"
   ]
  },
  {
   "cell_type": "markdown",
   "metadata": {},
   "source": [
    "#### Please refer this page for better understanding between classification and regression.\n",
    "\n",
    "https://www.javatpoint.com/regression-vs-classification-in-machine-learning "
   ]
  },
  {
   "cell_type": "code",
   "execution_count": null,
   "metadata": {},
   "outputs": [],
   "source": []
  }
 ],
 "metadata": {
  "kernelspec": {
   "display_name": "Python 3",
   "language": "python",
   "name": "python3"
  },
  "language_info": {
   "codemirror_mode": {
    "name": "ipython",
    "version": 3
   },
   "file_extension": ".py",
   "mimetype": "text/x-python",
   "name": "python",
   "nbconvert_exporter": "python",
   "pygments_lexer": "ipython3",
   "version": "3.8.5"
  }
 },
 "nbformat": 4,
 "nbformat_minor": 2
}
