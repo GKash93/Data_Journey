{
 "cells": [
  {
   "cell_type": "markdown",
   "metadata": {},
   "source": [
    "## Why Python for DataScience, Machine Learning(ML),Deep Learning(DL), Natural Language Processing(NLP)."
   ]
  },
  {
   "cell_type": "markdown",
   "metadata": {},
   "source": [
    "* Python is kind of language which can be implemented easily.\n",
    "* Python is used by many MNC and used for their internal training due to easy adaptation and upskills of their employees.\n",
    "* Python has an huge and wide open source community support. A person who wishes to enter the field of computing and coding need this help \n",
    "    and guidelines to overcome their initial fear of coding.\n",
    "* Python as stated is easy to implement and if there is a code error, you will have solution in stackoverflow, stackoverflow.\n",
    "* Python has moderate run time compared to higher level language Java, C++, C# \n",
    "    which has quick run time but you will need ore time to compile and code.\n",
    "* The more you learn, the more you practise, you will be better at the coding as well see why this language is so good and widely used."
   ]
  },
  {
   "cell_type": "markdown",
   "metadata": {},
   "source": [
    "### Variable, DataTypes, Operators and Keywords"
   ]
  },
  {
   "cell_type": "markdown",
   "metadata": {},
   "source": [
    "# Variables\n",
    "\n",
    "* Variables are small container which store data values. It can be numerical, floating(decimal ), strings(text characters) and so on. \n",
    "* It will reserve the data value in memory locations and when you use this,python will access the memory location to fetch the data values.\n",
    "* You can assighn multiple data values to multiple variables. \n",
    "* Python is a case sensitive language, so 'a' and 'A' will be considered as differen.\n",
    "\n",
    "#### See below examples"
   ]
  },
  {
   "cell_type": "code",
   "execution_count": 1,
   "metadata": {},
   "outputs": [],
   "source": [
    "# If you wish to add a comment to the code you are running you can use 'hash' symbol which will allow you type a comment like this.\n",
    "# While executing the code, the comment will be read but will not be considered as part of the code.\n",
    "\n",
    "#Let us see create some numerical variables\n",
    "\n",
    "a = 10\n",
    "A = 25\n",
    "b = 15\n",
    "B = 30\n",
    "c = 20\n",
    "C = 35\n",
    "\n",
    "#Let's print numerical variables\n",
    "print(a,b,c,A,B,C)\n",
    "\n",
    "#You can jumble this as well\n",
    "print(a,A,b,B,c,C)\n",
    "\n",
    "#If you wish to change the value of a variable 'a' to 5, you can simple type as follow and the variable will be changed.\n",
    "a = 5\n",
    "print(a,b,c,A,B,C) # you will see variable 'a' has changed data values from 10 to 5."
   ]
  },
  {
   "cell_type": "code",
   "execution_count": 2,
   "metadata": {},
   "outputs": [
    {
     "name": "stdout",
     "output_type": "stream",
     "text": [
      "10.1 15.15 20.2 25.25 30.3 35.35\n",
      "10.1 25.25 15.15 30.3 20.2 35.35\n",
      "5.5 25.25 15.15 30.3 20.2 35.35\n"
     ]
    }
   ],
   "source": [
    "#Let us create some floting variables\n",
    "\n",
    "d = 10.10\n",
    "D = 25.25\n",
    "e = 15.15\n",
    "E = 30.30\n",
    "f = 20.20\n",
    "F = 35.35\n",
    "\n",
    "#Let's print numerical variables\n",
    "print(d,e,f,D,E,F)\n",
    "\n",
    "#You can jumble this as well\n",
    "print(d,D,e,E,f,F)\n",
    "\n",
    "#If you wish to change the value of a variable 'd' to 5.5, you can simple type as follow and the variable will be changed.\n",
    "d = 5.5\n",
    "print(d,D,e,E,f,F) # you will see variable 'd' has changed data values from 10.10 to 5.5 "
   ]
  },
  {
   "cell_type": "code",
   "execution_count": 3,
   "metadata": {},
   "outputs": [
    {
     "name": "stdout",
     "output_type": "stream",
     "text": [
      "Apple Green Apples Strawberries Grapes Red_Grape Blueberries\n",
      "Apple Grapes Green Apples Red_Grape Strawberries Blueberries\n",
      "Apple Grapes Green Apples Red_Grape Raspberries Blueberries\n"
     ]
    }
   ],
   "source": [
    "#Let us create some string variables\n",
    "\n",
    "g = 'Apple'\n",
    "G = 'Grapes'\n",
    "h = 'Green Apples'\n",
    "H = 'Red_Grape'\n",
    "i = 'Strawberries'\n",
    "I = 'Blueberries'\n",
    "\n",
    "#Let's print numerical variables\n",
    "print(g,h,i,G,H,I)\n",
    "\n",
    "#You can jumble this as well\n",
    "print(g,G,h,H,i,I)\n",
    "\n",
    "#If you wish to change the value of a variable 'i' to Raspberries, you can simple type as follow and the variable will be changed.\n",
    "i = 'Raspberries'\n",
    "print(g,G,h,H,i,I) # you will see variable 'i' has changed data values from strawberries to Raspberries \n"
   ]
  },
  {
   "cell_type": "markdown",
   "metadata": {},
   "source": [
    "You can see it is very easy to declare variables in Python. If you get a variable, you can check what kind datatype it is. \n",
    "Read on"
   ]
  },
  {
   "cell_type": "code",
   "execution_count": 4,
   "metadata": {},
   "outputs": [
    {
     "name": "stdout",
     "output_type": "stream",
     "text": [
      "The data type is  <class 'int'>\n",
      "The data type is  <class 'float'>\n",
      "The data type is  <class 'str'>\n"
     ]
    }
   ],
   "source": [
    "print(\"The data type is \",type(A))\n",
    "print(\"The data type is \",type(d))\n",
    "print(\"The data type is \",type(I))"
   ]
  },
  {
   "cell_type": "code",
   "execution_count": 5,
   "metadata": {},
   "outputs": [
    {
     "name": "stdout",
     "output_type": "stream",
     "text": [
      "The Student name is Ganesh and age is 27 also his score is 65.65 %\n"
     ]
    }
   ],
   "source": [
    "# Let us try to multiple variables \n",
    "\n",
    "name,age,percentage = 'Ganesh',27,65.65\n",
    "\n",
    "print(\"The Student name is\",name,\"and age is\",age,\"also his score is\",percentage,\"%\")"
   ]
  },
  {
   "cell_type": "code",
   "execution_count": 6,
   "metadata": {},
   "outputs": [
    {
     "name": "stdout",
     "output_type": "stream",
     "text": [
      "The Student name is Ganesh age is 27 also his score is 65.65%\n"
     ]
    }
   ],
   "source": [
    "#You can use print using .format\n",
    "\n",
    "print(\"The Student name is {} age is {} also his score is {}%\".format(name,age,percentage))"
   ]
  },
  {
   "cell_type": "markdown",
   "metadata": {},
   "source": [
    "# DataTypes"
   ]
  },
  {
   "cell_type": "markdown",
   "metadata": {},
   "source": [
    "* Python has different data types, however, apart from above types, such as int(numerical), float(decimal), str(string or text which can be entered within single quotes '' or double quotes \"\". Some programmers set a habit of using single quotes to declare a string or text variables and double quotes to print out the statement. It is left to us to choose as per our convenience.)\n",
    "\n",
    "* We have list, tuples, dictionaries which we have a seperate chapter to help understand this better."
   ]
  },
  {
   "cell_type": "markdown",
   "metadata": {},
   "source": [
    "# Operators"
   ]
  },
  {
   "cell_type": "markdown",
   "metadata": {},
   "source": [
    "#### Operators and their uses\n",
    "\n",
    "### Arithemetic operators\n",
    "\n",
    "    1. Addition    +\n",
    "    2. Subtraction -\n",
    "    3. Multiplication *\n",
    "    4. Division /\n",
    "    5. Modulous %\n",
    "    6. Exponent **\n",
    "    7. Floor Division //\n",
    "    \n",
    "### Comparision operators\n",
    "\n",
    "    8. is same as or equality between two operands ==\n",
    "    9. is not same as or nonequality between two operands !=\n",
    "    10. greater than  >\n",
    "    11. lesser than <\n",
    "    12. greter than or equal to >=\n",
    "    13. lesser than or equal to <=\n",
    "\n",
    "### Membership operator\n",
    "\n",
    "    14. Evaluate to find if the variable is in sequence or not, we use 'in' operator\n",
    "    15. Evaluate to find if the variable is not in sequence or not, we use 'not in' operator\n",
    "    "
   ]
  },
  {
   "cell_type": "code",
   "execution_count": 7,
   "metadata": {},
   "outputs": [
    {
     "name": "stdout",
     "output_type": "stream",
     "text": [
      "20 55\n",
      "-30 -10\n",
      "75 750\n",
      "3.75 21.428571428571427\n",
      "25 3375 160000\n"
     ]
    }
   ],
   "source": [
    "# Examples for above\n",
    "\n",
    "print(a+b, A+B)\n",
    "print(a-b-c, A-b-c)\n",
    "\n",
    "print(a*b,A*B)\n",
    "print((a*b)/c, (A*B)/C)\n",
    "\n",
    "print(a**2, b**3, c**4) #a**2 is read as a square which converts 5*5 which is 5(remember that we have changed a to 5), \n",
    "#b ** 3 means cube of b, which is 15*15*15 and c ** 4 is c multiple by same 4 time, som refer to it as quad, 20*20*20*20"
   ]
  },
  {
   "cell_type": "code",
   "execution_count": 8,
   "metadata": {},
   "outputs": [
    {
     "name": "stdout",
     "output_type": "stream",
     "text": [
      "0\n",
      "1\n",
      "2\n"
     ]
    }
   ],
   "source": [
    "print(B % a) #B = 30 and a = 5, so 30/5 has remainder as 0\n",
    "\n",
    "print(C // c) # C = 35 and c = 20, so 35/20 has quotient as 1\n",
    "\n",
    "print( 9 // 4) #9/4 has quotient as 2"
   ]
  },
  {
   "cell_type": "code",
   "execution_count": 9,
   "metadata": {},
   "outputs": [
    {
     "name": "stdout",
     "output_type": "stream",
     "text": [
      "Both P and Q are not same variable\n",
      "Both P and Q are not same variable\n",
      "Condition not met, P is not greater than Q\n",
      "Condition met, P is greater than Q\n"
     ]
    }
   ],
   "source": [
    "p = 10\n",
    "q = 15\n",
    "\n",
    "if(p == q): print(\"Both P and Q are same variable\")\n",
    "else: print(\"Both P and Q are not same variable\")\n",
    "    \n",
    "if(p!=q): print(\"Both P and Q are not same variable\")\n",
    "else: print(\"Both P and Q are same variable\")\n",
    "    \n",
    "if(p > q): print(\"Condition met, P is greater than Q\")\n",
    "else: print(\"Condition not met, P is not greater than Q\")\n",
    "    \n",
    "if(p < q): print(\"Condition met, P is greater than Q\")\n",
    "else: print(\"Condition not met, P is not greater than Q\")"
   ]
  },
  {
   "cell_type": "code",
   "execution_count": 10,
   "metadata": {},
   "outputs": [
    {
     "name": "stdout",
     "output_type": "stream",
     "text": [
      "A correct statement\n",
      "A correct statement\n"
     ]
    }
   ],
   "source": [
    "if(d >=D): print(\"An incorrect statement\")\n",
    "else: print(\"A correct statement\")\n",
    "    \n",
    "if(e <= F):print(\"A correct statement\")\n",
    "else: print(\"An incorrect statement\")"
   ]
  },
  {
   "cell_type": "markdown",
   "metadata": {},
   "source": [
    "# Keywords"
   ]
  },
  {
   "cell_type": "markdown",
   "metadata": {},
   "source": [
    "* Keywords are the reserved words in Python.\n",
    "* We cannot use a keyword as a variable name, function name or any other identifier. They are used to define the syntax and structure of the Python language.\n",
    "* In Python, keywords are case sensitive.\n",
    "* There are 33 keywords in Python 3.7. This number can vary slightly over the course of time."
   ]
  },
  {
   "cell_type": "markdown",
   "metadata": {},
   "source": [
    "* False \n",
    "* await \n",
    "* else \n",
    "* import \n",
    "* pass\n",
    "* None \n",
    "* break\n",
    "* except\n",
    "* in\t\n",
    "* raise\n",
    "* True \n",
    "* class \n",
    "* finally\t\n",
    "* is\t\n",
    "* return\n",
    "* and \n",
    "* continue\n",
    "* for\t\n",
    "* lambda\n",
    "* try\n",
    "* as\n",
    "* def\n",
    "* from\n",
    "* nonlocal\n",
    "* while\n",
    "* assert\n",
    "* del\n",
    "* global\n",
    "* not\n",
    "* with\n",
    "* async\n",
    "* elif\n",
    "* if\n",
    "* or\n",
    "* yield"
   ]
  },
  {
   "cell_type": "markdown",
   "metadata": {},
   "source": [
    "## Conversion of variables. \n",
    "\n",
    "Often you have declared a variable as float but it should have been an int, or other way around. You can use use below to quickly rectify the mistake. Read on...\n"
   ]
  },
  {
   "cell_type": "code",
   "execution_count": 11,
   "metadata": {},
   "outputs": [
    {
     "name": "stdout",
     "output_type": "stream",
     "text": [
      "22 35.3689\n",
      "22.0\n",
      "35\n"
     ]
    }
   ],
   "source": [
    "num_int = 22\n",
    "num_float = 35.3689\n",
    "\n",
    "print(num_int,num_float)\n",
    "\n",
    "print(float(num_int))\n",
    "print(int(num_float))\n",
    "\n",
    "#Unfortunately, Python allow type coversion only for the numerical and floating variables."
   ]
  },
  {
   "cell_type": "markdown",
   "metadata": {},
   "source": [
    "### Somemore basics covered as part of introduction"
   ]
  },
  {
   "cell_type": "code",
   "execution_count": 12,
   "metadata": {},
   "outputs": [
    {
     "name": "stdout",
     "output_type": "stream",
     "text": [
      "Please enter the Name Ganesh\n",
      "Please enter the correct location Mysore\n",
      "Please enter the age 35\n",
      "The Employee name is Ganesh and age is 35.0  years old, also he is from location Mysore\n",
      "The Employee name is Ganesh and age is 35.0 years old, also he is from location Mysore\n"
     ]
    }
   ],
   "source": [
    "#1. Input and output in Python\n",
    "\n",
    "#Accept the name of the employee, location and age as part of input.\n",
    "\n",
    "name = input(\"Please enter the Name \")\n",
    "location = input(\"Please enter the correct location \")\n",
    "age = float(input(\"Please enter the age \"))\n",
    "\n",
    "    \n",
    "print(\"The Employee name is\",name,\"and age is\",age,\" years old, also he is from location\",location)\n",
    "print(\"The Employee name is {} and age is {} years old, also he is from location {}\".format(name,age,location))"
   ]
  },
  {
   "cell_type": "markdown",
   "metadata": {},
   "source": [
    "###### The above code is just to show accept the input from the user, and is an example of the input function, but for the output, we use the print function."
   ]
  },
  {
   "cell_type": "markdown",
   "metadata": {},
   "source": [
    "## Order and precedence in Python Operator\n",
    "\n",
    "* Operator precdence in python is from lowest precedence (least binding) to highest precedence (most binding). \n",
    "* Operators in the same box have the same precedence. \n",
    "* Operators in the same box group left to right (except for exponentiation, which groups from right to left).\n",
    "\n",
    "PEMDAS - \n",
    "\n",
    "    * Paranthesis    ()  | followed by\n",
    "    * Exponent       **  | followed by\n",
    "    \n",
    "        ,then,\n",
    "        \n",
    "    * Multiplication  *  | (left to right of parser)followed by \n",
    "    * Division        /  | (left to right of parser)followed by \n",
    "    \n",
    "        ,then,\n",
    "    \n",
    "    * Addition        +  | (left to right of parser)followed by\n",
    "    * Subtraction     -  | (left to right of parser)followed by\n",
    "    \n",
    "** Parser is a saying that interpreter reads the value in the direction specified, move from left to right. "
   ]
  },
  {
   "cell_type": "code",
   "execution_count": 13,
   "metadata": {},
   "outputs": [
    {
     "name": "stdout",
     "output_type": "stream",
     "text": [
      "2\n"
     ]
    }
   ],
   "source": [
    "print(  10-7//2*3+1 )\n",
    "# Step-1. 7 // 2, result will be 3, now it will be 10-3*3+1\n",
    "# Step-2. 3 * 3, result will be 9, now it will be 10-9+1\n",
    "# Step-3. 10 - 9, result will be 1, now it will be 1 + 1\n",
    "# Step-4. 1 + 1, results will be 2. "
   ]
  },
  {
   "cell_type": "code",
   "execution_count": 14,
   "metadata": {},
   "outputs": [
    {
     "name": "stdout",
     "output_type": "stream",
     "text": [
      "31\n"
     ]
    }
   ],
   "source": [
    "# What happens if we use paranthesis or ()\n",
    "\n",
    "print( (230-7)//((2*3)+1))\n",
    "\n",
    "# Step-1. (230 - 7), result will be 223, now it will be 223//((2*3)+1)\n",
    "# Step-2. (2 * 3), result will be 6, now it will be 223 // (6 + 1)\n",
    "# Step-3. (6 + 1), result will be 7, now it will be 223 // 7\n",
    "# Step-4. 223 // 7, results will be 31. "
   ]
  },
  {
   "cell_type": "markdown",
   "metadata": {},
   "source": [
    "## Concatenation in strings"
   ]
  },
  {
   "cell_type": "markdown",
   "metadata": {},
   "source": [
    "* concatenation will be useful if we wish to merge two string variable."
   ]
  },
  {
   "cell_type": "code",
   "execution_count": 15,
   "metadata": {},
   "outputs": [
    {
     "name": "stdout",
     "output_type": "stream",
     "text": [
      "How are you Today?\n"
     ]
    }
   ],
   "source": [
    "str1 = \"How are you\"\n",
    "str2 = \" Today?\"\n",
    "\n",
    "#Simple + operators is used\n",
    "str_greetings = str1 + str2\n",
    "print(str_greetings)"
   ]
  },
  {
   "cell_type": "code",
   "execution_count": 16,
   "metadata": {},
   "outputs": [
    {
     "name": "stdout",
     "output_type": "stream",
     "text": [
      "tho\n",
      "tho\n"
     ]
    }
   ],
   "source": [
    "# Indexing - finding the information stored in the position of the string. In python, the values are stored like this.\n",
    "str3 = 'Python'\n",
    "\n",
    "# +---+---+---+---+---+---+\n",
    "# | P | y | t | h | o | n |\n",
    "# +---+---+---+---+---+---+\n",
    "# 0   1   2   3   4   5   6\n",
    "#    -6  -5  -4  -3  -2  -1\n",
    "\n",
    "# Slicing - Slicing will help to obtain a part of the string, comonly referred as sub string.\n",
    "str4 = str3[2 : 5]\n",
    "print(str4)\n",
    "\n",
    "str5 = str3[-4 : -1]\n",
    "print(str5)"
   ]
  }
 ],
 "metadata": {
  "kernelspec": {
   "display_name": "Python 3",
   "language": "python",
   "name": "python3"
  },
  "language_info": {
   "codemirror_mode": {
    "name": "ipython",
    "version": 3
   },
   "file_extension": ".py",
   "mimetype": "text/x-python",
   "name": "python",
   "nbconvert_exporter": "python",
   "pygments_lexer": "ipython3",
   "version": "3.7.4"
  }
 },
 "nbformat": 4,
 "nbformat_minor": 2
}
